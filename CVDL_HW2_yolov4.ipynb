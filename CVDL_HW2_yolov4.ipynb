{
  "nbformat": 4,
  "nbformat_minor": 0,
  "metadata": {
    "colab": {
      "name": "CVDL_HW2_yolov4.ipynb",
      "provenance": [],
      "collapsed_sections": []
    },
    "kernelspec": {
      "name": "python3",
      "display_name": "Python 3"
    },
    "accelerator": "GPU"
  },
  "cells": [
    {
      "cell_type": "markdown",
      "metadata": {
        "id": "JSoyEb9kuPbd"
      },
      "source": [
        "### Computer Vision and Deep Learning, homework 2\n",
        "\n",
        "Lev Svalov, l.svalov@innopolis.university <br>\n",
        "\n",
        "**Reference**: code credit from [yoloV4 tutorial](https://blog.roboflow.com/training-yolov4-on-a-custom-dataset/)"
      ]
    },
    {
      "cell_type": "markdown",
      "metadata": {
        "id": "YNWY49E4UGiJ"
      },
      "source": [
        "### 1. Set up yoloV4"
      ]
    },
    {
      "cell_type": "code",
      "metadata": {
        "id": "rX_tj9SLtake",
        "colab": {
          "base_uri": "https://localhost:8080/"
        },
        "outputId": "53b94e6d-8263-4c12-b75c-3cfa04acd213"
      },
      "source": [
        "!git clone https://github.com/roboflow-ai/pytorch-YOLOv4.git"
      ],
      "execution_count": null,
      "outputs": [
        {
          "output_type": "stream",
          "name": "stdout",
          "text": [
            "Cloning into 'pytorch-YOLOv4'...\n",
            "remote: Enumerating objects: 398, done.\u001b[K\n",
            "remote: Total 398 (delta 0), reused 0 (delta 0), pack-reused 398\u001b[K\n",
            "Receiving objects: 100% (398/398), 926.53 KiB | 7.07 MiB/s, done.\n",
            "Resolving deltas: 100% (225/225), done.\n"
          ]
        }
      ]
    },
    {
      "cell_type": "code",
      "metadata": {
        "id": "2dcOE23gvbHj",
        "colab": {
          "base_uri": "https://localhost:8080/"
        },
        "outputId": "b3d5336a-c05d-4020-8cfb-c27ac001cbd7"
      },
      "source": [
        "%cd /content/pytorch-YOLOv4\n",
        "!pip install -r requirements.txt\n",
        "import os\n",
        "os.kill(os.getpid(), 9)"
      ],
      "execution_count": null,
      "outputs": [
        {
          "output_type": "stream",
          "name": "stdout",
          "text": [
            "/content/pytorch-YOLOv4\n",
            "Collecting numpy==1.18.2\n",
            "  Downloading numpy-1.18.2-cp37-cp37m-manylinux1_x86_64.whl (20.2 MB)\n",
            "\u001b[K     |████████████████████████████████| 20.2 MB 1.5 MB/s \n",
            "\u001b[?25hCollecting torch==1.4.0\n",
            "  Downloading torch-1.4.0-cp37-cp37m-manylinux1_x86_64.whl (753.4 MB)\n",
            "\u001b[K     |████████████████████████████████| 753.4 MB 7.5 kB/s \n",
            "\u001b[?25hCollecting scikit_image==0.16.2\n",
            "  Downloading scikit_image-0.16.2-cp37-cp37m-manylinux1_x86_64.whl (26.5 MB)\n",
            "\u001b[K     |████████████████████████████████| 26.5 MB 3.5 MB/s \n",
            "\u001b[?25hCollecting matplotlib==2.2.3\n",
            "  Downloading matplotlib-2.2.3-cp37-cp37m-manylinux1_x86_64.whl (12.6 MB)\n",
            "\u001b[K     |████████████████████████████████| 12.6 MB 14.0 MB/s \n",
            "\u001b[?25hCollecting tqdm==4.43.0\n",
            "  Downloading tqdm-4.43.0-py2.py3-none-any.whl (59 kB)\n",
            "\u001b[K     |████████████████████████████████| 59 kB 5.6 MB/s \n",
            "\u001b[?25hRequirement already satisfied: easydict==1.9 in /usr/local/lib/python3.7/dist-packages (from -r requirements.txt (line 6)) (1.9)\n",
            "Requirement already satisfied: Pillow==7.1.2 in /usr/local/lib/python3.7/dist-packages (from -r requirements.txt (line 7)) (7.1.2)\n",
            "Collecting tensorboardX\n",
            "  Downloading tensorboardX-2.4.1-py2.py3-none-any.whl (124 kB)\n",
            "\u001b[K     |████████████████████████████████| 124 kB 45.2 MB/s \n",
            "\u001b[?25hRequirement already satisfied: imageio>=2.3.0 in /usr/local/lib/python3.7/dist-packages (from scikit_image==0.16.2->-r requirements.txt (line 3)) (2.4.1)\n",
            "Requirement already satisfied: PyWavelets>=0.4.0 in /usr/local/lib/python3.7/dist-packages (from scikit_image==0.16.2->-r requirements.txt (line 3)) (1.2.0)\n",
            "Requirement already satisfied: networkx>=2.0 in /usr/local/lib/python3.7/dist-packages (from scikit_image==0.16.2->-r requirements.txt (line 3)) (2.6.3)\n",
            "Requirement already satisfied: scipy>=0.19.0 in /usr/local/lib/python3.7/dist-packages (from scikit_image==0.16.2->-r requirements.txt (line 3)) (1.4.1)\n",
            "Requirement already satisfied: cycler>=0.10 in /usr/local/lib/python3.7/dist-packages (from matplotlib==2.2.3->-r requirements.txt (line 4)) (0.11.0)\n",
            "Requirement already satisfied: six>=1.10 in /usr/local/lib/python3.7/dist-packages (from matplotlib==2.2.3->-r requirements.txt (line 4)) (1.15.0)\n",
            "Requirement already satisfied: pyparsing!=2.0.4,!=2.1.2,!=2.1.6,>=2.0.1 in /usr/local/lib/python3.7/dist-packages (from matplotlib==2.2.3->-r requirements.txt (line 4)) (3.0.6)\n",
            "Requirement already satisfied: kiwisolver>=1.0.1 in /usr/local/lib/python3.7/dist-packages (from matplotlib==2.2.3->-r requirements.txt (line 4)) (1.3.2)\n",
            "Requirement already satisfied: pytz in /usr/local/lib/python3.7/dist-packages (from matplotlib==2.2.3->-r requirements.txt (line 4)) (2018.9)\n",
            "Requirement already satisfied: python-dateutil>=2.1 in /usr/local/lib/python3.7/dist-packages (from matplotlib==2.2.3->-r requirements.txt (line 4)) (2.8.2)\n",
            "Requirement already satisfied: protobuf>=3.8.0 in /usr/local/lib/python3.7/dist-packages (from tensorboardX->-r requirements.txt (line 8)) (3.17.3)\n",
            "Installing collected packages: numpy, matplotlib, tqdm, torch, tensorboardX, scikit-image\n",
            "  Attempting uninstall: numpy\n",
            "    Found existing installation: numpy 1.19.5\n",
            "    Uninstalling numpy-1.19.5:\n",
            "      Successfully uninstalled numpy-1.19.5\n",
            "  Attempting uninstall: matplotlib\n",
            "    Found existing installation: matplotlib 3.2.2\n",
            "    Uninstalling matplotlib-3.2.2:\n",
            "      Successfully uninstalled matplotlib-3.2.2\n",
            "  Attempting uninstall: tqdm\n",
            "    Found existing installation: tqdm 4.62.3\n",
            "    Uninstalling tqdm-4.62.3:\n",
            "      Successfully uninstalled tqdm-4.62.3\n",
            "  Attempting uninstall: torch\n",
            "    Found existing installation: torch 1.10.0+cu111\n",
            "    Uninstalling torch-1.10.0+cu111:\n",
            "      Successfully uninstalled torch-1.10.0+cu111\n",
            "  Attempting uninstall: scikit-image\n",
            "    Found existing installation: scikit-image 0.18.3\n",
            "    Uninstalling scikit-image-0.18.3:\n",
            "      Successfully uninstalled scikit-image-0.18.3\n",
            "\u001b[31mERROR: pip's dependency resolver does not currently take into account all the packages that are installed. This behaviour is the source of the following dependency conflicts.\n",
            "torchvision 0.11.1+cu111 requires torch==1.10.0, but you have torch 1.4.0 which is incompatible.\n",
            "torchtext 0.11.0 requires torch==1.10.0, but you have torch 1.4.0 which is incompatible.\n",
            "torchaudio 0.10.0+cu111 requires torch==1.10.0, but you have torch 1.4.0 which is incompatible.\n",
            "plotnine 0.6.0 requires matplotlib>=3.1.1, but you have matplotlib 2.2.3 which is incompatible.\n",
            "panel 0.12.1 requires tqdm>=4.48.0, but you have tqdm 4.43.0 which is incompatible.\n",
            "mizani 0.6.0 requires matplotlib>=3.1.1, but you have matplotlib 2.2.3 which is incompatible.\n",
            "kapre 0.3.6 requires numpy>=1.18.5, but you have numpy 1.18.2 which is incompatible.\n",
            "datascience 0.10.6 requires folium==0.2.1, but you have folium 0.8.3 which is incompatible.\n",
            "arviz 0.11.4 requires matplotlib>=3.0, but you have matplotlib 2.2.3 which is incompatible.\n",
            "albumentations 0.1.12 requires imgaug<0.2.7,>=0.2.5, but you have imgaug 0.2.9 which is incompatible.\u001b[0m\n",
            "Successfully installed matplotlib-2.2.3 numpy-1.18.2 scikit-image-0.16.2 tensorboardX-2.4.1 torch-1.4.0 tqdm-4.43.0\n"
          ]
        }
      ]
    },
    {
      "cell_type": "code",
      "metadata": {
        "id": "UYIS9QfDyCK9",
        "colab": {
          "base_uri": "https://localhost:8080/"
        },
        "outputId": "4bbb6de6-d083-4924-a98d-397d9bee81fc"
      },
      "source": [
        "# download yolov4 weights that have already been converted to PyTorch\n",
        "%cd /content/pytorch-YOLOv4/cfg/\n",
        "!gdown https://drive.google.com/uc?id=1fcbR0bWzYfIEdLJPzOsn4R5mlvR6IQyA"
      ],
      "execution_count": null,
      "outputs": [
        {
          "output_type": "stream",
          "name": "stdout",
          "text": [
            "/content/pytorch-YOLOv4/cfg\n",
            "Downloading...\n",
            "From: https://drive.google.com/uc?id=1fcbR0bWzYfIEdLJPzOsn4R5mlvR6IQyA\n",
            "To: /content/pytorch-YOLOv4/cfg/yolov4.conv.137.pth\n",
            "100% 170M/170M [00:01<00:00, 138MB/s]\n"
          ]
        }
      ]
    },
    {
      "cell_type": "markdown",
      "metadata": {
        "id": "drLgRWAAUNIG"
      },
      "source": [
        "### 2. Export my annotated dataset from roboflow project via link"
      ]
    },
    {
      "cell_type": "code",
      "metadata": {
        "id": "lui6tBJKvqVS",
        "colab": {
          "base_uri": "https://localhost:8080/"
        },
        "outputId": "bb1fcfca-6a36-4658-d0b0-d9fb738abe90"
      },
      "source": [
        "%cd /content/)\n",
        "!curl -L https://app.roboflow.com/ds/J6RzjFj1Oy?key=NG2O6yWqS3 > roboflow.zip; unzip roboflow.zip; rm roboflow.zip"
      ],
      "execution_count": null,
      "outputs": [
        {
          "output_type": "stream",
          "name": "stdout",
          "text": [
            "/content\n",
            "  % Total    % Received % Xferd  Average Speed   Time    Time     Time  Current\n",
            "                                 Dload  Upload   Total   Spent    Left  Speed\n",
            "100   896  100   896    0     0   1505      0 --:--:-- --:--:-- --:--:--  1505\n",
            "100 2237k  100 2237k    0     0  3138k      0 --:--:-- --:--:-- --:--:--  189M\n",
            "Archive:  roboflow.zip\n",
            " extracting: README.dataset.txt      \n",
            " extracting: README.roboflow.txt     \n",
            "   creating: train/\n",
            " extracting: train/_annotations.txt  \n",
            " extracting: train/_classes.txt      \n",
            " extracting: train/photo-1441171205449-f600f908a9f3_jpeg.rf.30f32fc5b52145f6d28d68f36ba2eac8.jpg  \n",
            " extracting: train/photo-1441171205449-f600f908a9f3_jpeg.rf.7d8e00d418352578e2adb8545e7faeb8.jpg  \n",
            " extracting: train/photo-1473308822086-710304d7d30c_jpeg.rf.35c705d21eae044fa7ea5d52c1d6d123.jpg  \n",
            " extracting: train/photo-1473308822086-710304d7d30c_jpeg.rf.4cfe18302d36f745e94231b0f64ae314.jpg  \n",
            " extracting: train/photo-1480419821406-9cc94edb433c_jpeg.rf.5a41e8cb09bc2ac97ebf767de9398e01.jpg  \n",
            " extracting: train/photo-1480419821406-9cc94edb433c_jpeg.rf.93bb317eddc7f49220976a45d92f3931.jpg  \n",
            " extracting: train/photo-1493402702251-a6e5320337f7_jpeg.rf.5989307ad593030781557b285eb4b4d3.jpg  \n",
            " extracting: train/photo-1493612276216-ee3925520721_jpeg.rf.2783f065bbd616e816302a8dcf2f4db6.jpg  \n",
            " extracting: train/photo-1493612276216-ee3925520721_jpeg.rf.daeb1e313f327a2785ac2177fb9d5c1d.jpg  \n",
            " extracting: train/photo-1495877714314-e94d81251335_jpeg.rf.72bc3d38091ae493dfe527ce7b04e377.jpg  \n",
            " extracting: train/photo-1495877714314-e94d81251335_jpeg.rf.e93ffe9d37b9a6db4f849eddb5287cbf.jpg  \n",
            " extracting: train/photo-1506275152278-6c68ab8f203a_jpeg.rf.7fc2f8400e71b31abe73f4e7344bb19b.jpg  \n",
            " extracting: train/photo-1506275152278-6c68ab8f203a_jpeg.rf.e0e80447f30a7585bd071b6f601e250d.jpg  \n",
            " extracting: train/photo-1506528711705-6e457832d576_jpeg.rf.14c0344ea06007f81f20832e162540f9.jpg  \n",
            " extracting: train/photo-1506528711705-6e457832d576_jpeg.rf.f4198519ebddf6e77046d72ff7790e65.jpg  \n",
            " extracting: train/photo-1508179317010-fc9ffe5e6e78_jpeg.rf.6b308dcaaebfaeb73372435d66b5897b.jpg  \n",
            " extracting: train/photo-1508179317010-fc9ffe5e6e78_jpeg.rf.b584823fb0e2389683a2ab506b662631.jpg  \n",
            " extracting: train/photo-1513518647365-91830a8800b3_jpeg.rf.2b90efbcbeca9d315b9bb4920a20dd9f.jpg  \n",
            " extracting: train/photo-1513518647365-91830a8800b3_jpeg.rf.6456c2dbfd1e31fcafe0dcbacebed849.jpg  \n",
            " extracting: train/photo-1513518674089-26bd0c4e3887_jpeg.rf.4c1ed5872e452939c95bd6364c5c2090.jpg  \n",
            " extracting: train/photo-1513518674089-26bd0c4e3887_jpeg.rf.8eab628409eaa1df4e94972284e30211.jpg  \n",
            " extracting: train/photo-1520207561932-be78def80ca6_jpeg.rf.0c93841a5eab3c76999ef1bd2037dbc5.jpg  \n",
            " extracting: train/photo-1520207561932-be78def80ca6_jpeg.rf.c1d1ce45523eb639113810057380fed6.jpg  \n",
            " extracting: train/photo-1521583871906-b3177c649805_jpeg.rf.55303b8b03908dae894031fa7053ebe1.jpg  \n",
            " extracting: train/photo-1532007271951-c487760934ae_jpeg.rf.2f809672d50aff41c210ac726fb473a1.jpg  \n",
            " extracting: train/photo-1532007271951-c487760934ae_jpeg.rf.9b5fe18907afc12af8d24383ee42f431.jpg  \n",
            " extracting: train/photo-1536079507189-a4d3432e732f_jpeg.rf.02ce72069f215bb99a3a09b2c3cd04e3.jpg  \n",
            " extracting: train/photo-1536079507189-a4d3432e732f_jpeg.rf.a1679ca802e7af0e6380248f8d0693de.jpg  \n",
            " extracting: train/photo-1536486239970-277f67f55a11_jpeg.rf.0681c1675a2cbfd3e65d6779d1244f1c.jpg  \n",
            " extracting: train/photo-1536486239970-277f67f55a11_jpeg.rf.e12481b439194e74331fe4cd315d8e93.jpg  \n",
            " extracting: train/photo-1542820242-a3699d4f2bfe_jpeg.rf.3dfaf2a92ced1be8b1feea34b6629fe3.jpg  \n",
            " extracting: train/photo-1542820242-a3699d4f2bfe_jpeg.rf.e35db9d1fcaafb61531fb1b184ccc1be.jpg  \n",
            " extracting: train/photo-1546373702-5d9a6bf909a5_jpeg.rf.3538166ecf249f9f49f6028ff9119c52.jpg  \n",
            " extracting: train/photo-1546373702-5d9a6bf909a5_jpeg.rf.7c868b8ddca06af80de5d8488776f278.jpg  \n",
            " extracting: train/photo-1546771278-a9a35d959da2_jpeg.rf.20ca324ec43d4f91ee6ef1bd0557e64c.jpg  \n",
            " extracting: train/photo-1546771278-a9a35d959da2_jpeg.rf.bfef5a20c01563f295ab140938b916a5.jpg  \n",
            " extracting: train/photo-1546938576-2f7e1bb61810_jpeg.rf.bd86e0917d09a715c58e076fb2cb2a70.jpg  \n",
            " extracting: train/photo-1546938576-2f7e1bb61810_jpeg.rf.f8dae695754885850ab1a95f6353e1a7.jpg  \n",
            " extracting: train/photo-1558263854-4864bf0447e9_jpeg.rf.230ba034eb8c9b618b9b0ad7082266e6.jpg  \n",
            " extracting: train/photo-1558263854-4864bf0447e9_jpeg.rf.672dd89e189f8516cb3425cc9708c750.jpg  \n",
            " extracting: train/photo-1562051725-9f20596fc3e6_jpeg.rf.56b383e1366cc434b333ddaafdc44e8a.jpg  \n",
            " extracting: train/photo-1562051725-9f20596fc3e6_jpeg.rf.fd95dc92e86b5dd6a33bc2c58c5f792c.jpg  \n",
            " extracting: train/photo-1563922195171-e59f0d4658f6_jpeg.rf.9695bfd05e47b1cf5a6dc6fc9e18b4f0.jpg  \n",
            " extracting: train/photo-1563922195171-e59f0d4658f6_jpeg.rf.c3510cc0b2cb59b50074bb5c0cde638f.jpg  \n",
            " extracting: train/photo-1564378925152-3d4fc236baf5_jpeg.rf.4c962291893d7b1121077be7021c76b6.jpg  \n",
            " extracting: train/photo-1564378925152-3d4fc236baf5_jpeg.rf.4f77e624f81dfb3cdb9eeed21117fa89.jpg  \n",
            " extracting: train/photo-1566935167635-58e814568465_jpeg.rf.0f3a3794259d420ed817f6cd08b2a14d.jpg  \n",
            " extracting: train/photo-1566935167635-58e814568465_jpeg.rf.af99504742125184dddc312684344406.jpg  \n",
            " extracting: train/photo-1570115115003-6dd0b570d378_jpeg.rf.648baf05c2680c48087cf95f3687c5bf.jpg  \n",
            " extracting: train/photo-1570115115003-6dd0b570d378_jpeg.rf.75ba72feaff9a810c69bb26c47ce45f9.jpg  \n",
            " extracting: train/photo-1571615754493-ff5d323d6526_jpeg.rf.30bbfb8593d4618c5c88051daa8457df.jpg  \n",
            " extracting: train/photo-1571615754493-ff5d323d6526_jpeg.rf.4831f5e9058f86aa24b616237668e5d2.jpg  \n",
            " extracting: train/photo-1576358178470-e32cd4a7603c_jpeg.rf.32b24be89e3c167e5794202d50fdd635.jpg  \n",
            " extracting: train/photo-1576358178470-e32cd4a7603c_jpeg.rf.cb4b889337c268d2c00fc2068a705986.jpg  \n",
            " extracting: train/photo-1590845947698-8924d7409b56_jpeg.rf.0cc5281f213782d7582a03c298fbe9b3.jpg  \n",
            " extracting: train/photo-1590845947698-8924d7409b56_jpeg.rf.61c721e1a14fc63e51556730ae2fc69f.jpg  \n",
            " extracting: train/photo-1591737927087-24b61d41def5_jpeg.rf.6e064174d5772f8309a1277846b31da9.jpg  \n",
            " extracting: train/photo-1591737927087-24b61d41def5_jpeg.rf.88e1c3b67dc8dfa1ec13b6a83cdc9ae9.jpg  \n",
            " extracting: train/photo-1594289833187-264ae284a0b5_jpeg.rf.3b216c4e085b7e1abd6494f399a98390.jpg  \n",
            " extracting: train/photo-1594289833187-264ae284a0b5_jpeg.rf.bc995d2b1c821241e22db59ed2bf7622.jpg  \n",
            " extracting: train/photo-1596748925247-cbb6c6785261_jpeg.rf.1eae9169f1918a01203a893ddf57bbb9.jpg  \n",
            " extracting: train/photo-1596748925247-cbb6c6785261_jpeg.rf.f795bb4869e21279b8d2745884aa2e68.jpg  \n",
            " extracting: train/photo-1596877440946-331b64c24c7c_jpeg.rf.ab02921140c1588781c7210bbb1c2d2a.jpg  \n",
            " extracting: train/photo-1596877440946-331b64c24c7c_jpeg.rf.c52a28136b5102c8fdbaab37275372f5.jpg  \n",
            " extracting: train/photo-1598196118049-6cf9d35be3eb_jpeg.rf.3d40cd936640489a516a8fa46662b647.jpg  \n",
            " extracting: train/photo-1598196118049-6cf9d35be3eb_jpeg.rf.7882ca6c3934626d16111a29c94cccf3.jpg  \n",
            " extracting: train/photo-1601329673959-12506cf2e831_jpeg.rf.096a2b9e42b93a0b328fc977effc82c4.jpg  \n",
            " extracting: train/photo-1601329673959-12506cf2e831_jpeg.rf.5a289273f7a5aa5340c0c34dfe481401.jpg  \n",
            " extracting: train/photo-1601876813368-7962dc48cfab_jpeg.rf.5e535940b5b31bd693eb086742825e75.jpg  \n",
            " extracting: train/photo-1601876813368-7962dc48cfab_jpeg.rf.a934c23b1c8e07b91f78619e55b871d8.jpg  \n",
            " extracting: train/photo-1602212564855-009ec0f01923_jpeg.rf.91654d4ef85d6c2d4168f748483d3221.jpg  \n",
            " extracting: train/photo-1602212564855-009ec0f01923_jpeg.rf.c6e74dc4f02ac91e180d6b6be979de1c.jpg  \n",
            " extracting: train/photo-1603905490917-4d662bd41008_jpeg.rf.663b2081ee8160d3cfc758308eeb90ae.jpg  \n",
            " extracting: train/photo-1604232897079-8f2fd13eca09_jpeg.rf.025ca76d6e3338e6f7285593aa698fb6.jpg  \n",
            " extracting: train/photo-1604232897079-8f2fd13eca09_jpeg.rf.809a3d6691a9aa5c70778f20ab06b5a8.jpg  \n",
            " extracting: train/photo-1606922860379-162e24a90a2b_jpeg.rf.ca5301ac62333ff0bfe2f16089c48662.jpg  \n",
            " extracting: train/photo-1607863156353-1834a5c56290_jpeg.rf.61f659e935925044ba13a396cf38df42.jpg  \n",
            " extracting: train/photo-1607863156353-1834a5c56290_jpeg.rf.657bdc40ccf87258f919112e8d616c80.jpg  \n",
            " extracting: train/photo-1609372697655-65d874e3fe60_jpeg.rf.1a111fed7d946ea89cbdbd1b0ac075e1.jpg  \n",
            " extracting: train/photo-1609372697655-65d874e3fe60_jpeg.rf.a304bd71e6abe1040b35add2ab3096dc.jpg  \n",
            " extracting: train/photo-1611002306463-3fa146394d39_jpeg.rf.3214e066263312ff96b1d5d80ea6f87d.jpg  \n",
            " extracting: train/photo-1611002306463-3fa146394d39_jpeg.rf.5f02f94b94aedd28105267d40f2ff92f.jpg  \n",
            " extracting: train/photo-1612186655991-1accf7382eb8_jpeg.rf.702c636479ae5fb63e08a29112c93c60.jpg  \n",
            " extracting: train/photo-1612186655991-1accf7382eb8_jpeg.rf.9b2da61548c15740fbdc740a0a2d2778.jpg  \n",
            " extracting: train/photo-1613947962465-683d3b143f51_jpeg.rf.a8affa8ca72eed9b7588dafbb5f15520.jpg  \n",
            " extracting: train/photo-1613947962465-683d3b143f51_jpeg.rf.f79e977633626a68c1364b53d5a9a81b.jpg  \n",
            " extracting: train/photo-1615634375937-07462aedfafa_jpeg.rf.01c1c01a9727c06cc1c64e9a994abb5b.jpg  \n",
            " extracting: train/photo-1615634375937-07462aedfafa_jpeg.rf.b63ca500b806cf1c79ce957d7d65d748.jpg  \n",
            " extracting: train/photo-1616017640739-44ce2bfd9b4e_jpeg.rf.76e7e0cdaed834fb27859da871d4c62c.jpg  \n",
            " extracting: train/photo-1616017640739-44ce2bfd9b4e_jpeg.rf.fc08003b0026283e484a3381c0a5702d.jpg  \n",
            " extracting: train/photo-1617396436181-b4d53cf9cf8b_jpeg.rf.3c235eeab2f062d249fe10846bb36e27.jpg  \n",
            " extracting: train/photo-1617396436181-b4d53cf9cf8b_jpeg.rf.c2b22bb22191aeb3709e46a318c07315.jpg  \n",
            " extracting: train/photo-1617706111157-5f5c6443a04d_jpeg.rf.06aae7eab373524585b0083121ac811b.jpg  \n",
            " extracting: train/photo-1617706111157-5f5c6443a04d_jpeg.rf.8f616ec9be566bfffcfa6cb7af831b06.jpg  \n",
            " extracting: train/photo-1619506147154-01717498fc26_jpeg.rf.393f8e150762e03629f9c0ad5bb22e75.jpg  \n",
            " extracting: train/photo-1619506147154-01717498fc26_jpeg.rf.8a2a115aa2013e8579d0bb820065fe6f.jpg  \n",
            " extracting: train/photo-1619892480888-ac7c5c2f4b5f_jpeg.rf.12a96063f8cd8864bf018520f128bccd.jpg  \n",
            " extracting: train/photo-1619892480888-ac7c5c2f4b5f_jpeg.rf.f7df3e1bde99b66f1400c20b247019ce.jpg  \n",
            " extracting: train/photo-1621439618623-3d4d324f6a0e_jpeg.rf.5dee82b6e48648a09f0b7bc894a353c7.jpg  \n",
            " extracting: train/photo-1621439618623-3d4d324f6a0e_jpeg.rf.93957fc72ddf77f81fa4121d2283b6d6.jpg  \n",
            " extracting: train/photo-1623192094571-9b7e5209b599_jpeg.rf.7408fee2ea3c49334fb0ab6f712f07de.jpg  \n",
            " extracting: train/photo-1623192094571-9b7e5209b599_jpeg.rf.bb6601786288520246369ebd01b505d7.jpg  \n",
            " extracting: train/photo-1627386525199-38cc424f7de1_jpeg.rf.06fa07df2bba12f454796d9ef58dee77.jpg  \n",
            " extracting: train/photo-1627386525199-38cc424f7de1_jpeg.rf.67c2245e177a899b5189140a941c431f.jpg  \n",
            " extracting: train/photo-1627435601753-50f374ee2d5b_jpeg.rf.233bde63d9b19fb8924ff3e1c764651a.jpg  \n",
            " extracting: train/photo-1627435601753-50f374ee2d5b_jpeg.rf.f48d9d5b9cb305198a56cfcfb414ff69.jpg  \n",
            " extracting: train/photo-1627435601843-c58546ac2465_jpeg.rf.c8d803a067d5a691076f98c2f809482c.jpg  \n",
            " extracting: train/photo-1627435601843-c58546ac2465_jpeg.rf.e03351258a8b95c3cee82d11e25cb600.jpg  \n",
            " extracting: train/photo-1632434553846-0665c0447af7_jpeg.rf.26410c8802b80bf46ae431d199ef22f7.jpg  \n",
            " extracting: train/photo-1632434553846-0665c0447af7_jpeg.rf.43447f00327c4b8f2cccc1a5003b429d.jpg  \n",
            " extracting: train/photo-1633159422443-512d6c378c2c_jpeg.rf.07456ae863d1a673af314414df73eb2c.jpg  \n",
            " extracting: train/photo-1633159422443-512d6c378c2c_jpeg.rf.77922621f23aba48638f6ee3357c725d.jpg  \n",
            " extracting: train/photo-1634758552168-26b8db0d9bf0_jpeg.rf.52533ce9f19cc2647be364e76740f8af.jpg  \n",
            " extracting: train/photo-1634758552168-26b8db0d9bf0_jpeg.rf.58ffce35ecf37afe7462ea6ed1582bb9.jpg  \n",
            " extracting: train/photo-1635233307663-a21b8ba3749a_jpeg.rf.102eaee9f8c7a14f97d29f9e6acc19c4.jpg  \n",
            " extracting: train/photo-1635233307663-a21b8ba3749a_jpeg.rf.78ca01caa1d9f63355fd9945868e9b38.jpg  \n",
            " extracting: train/photo-1636399698922-ef74d798fdd1_jpeg.rf.429d29730b0cc0e0e6b5ae3d94d9dd6b.jpg  \n",
            " extracting: train/photo-1636399698922-ef74d798fdd1_jpeg.rf.783ad1d863a665effc7eecc696dff7b5.jpg  \n",
            " extracting: train/photo-1637590429691-ec9e5755ddb5_jpeg.rf.20a0970593d8ba92aa39338c2d94f0e3.jpg  \n",
            " extracting: train/photo-1637590429691-ec9e5755ddb5_jpeg.rf.ffca1d78f153420da22fde200d92015c.jpg  \n",
            "   creating: valid/\n",
            " extracting: valid/_annotations.txt  \n",
            " extracting: valid/_classes.txt      \n",
            " extracting: valid/photo-1464593745417-e22a78ca277b_jpeg.rf.b6f1a9f960be307836d6bb997c28771a.jpg  \n",
            " extracting: valid/photo-1485119502162-016e4409beab_jpeg.rf.2b789df217b76537a17ad2dff89acdac.jpg  \n",
            " extracting: valid/photo-1508345105453-e4abfea863c6_jpeg.rf.ee825ebad98d385495461682e3b83fa5.jpg  \n",
            " extracting: valid/photo-1520207625066-829dade7b91a_jpeg.rf.b8ef9edb161d5d0207d19865df704f0d.jpg  \n",
            " extracting: valid/photo-1531379410502-63bfe8cdaf6f_jpeg.rf.84194f588897549a06a1ffc543012ae3.jpg  \n",
            " extracting: valid/photo-1535868463750-c78d9543614f_jpeg.rf.4a30cc8e1f5b739ccd898346b04d1af0.jpg  \n",
            " extracting: valid/photo-1537291730574-76479f3da033_jpeg.rf.6cd375a333281dd8e777b2d5635a4e7e.jpg  \n",
            " extracting: valid/photo-1544021770-7fe1de901890_jpeg.rf.f64ba5e192c626c4e47b17d09dbdf9b1.jpg  \n",
            " extracting: valid/photo-1562051725-cc35a65c8227_jpeg.rf.2bcb2b8d3f77a46a600e19e37944ef64.jpg  \n",
            " extracting: valid/photo-1572530895190-89dd70849410_jpeg.rf.3ad30ef9e2b9b70031d9f54f0657eb47.jpg  \n",
            " extracting: valid/photo-1573675580577-58973eafd7ab_jpeg.rf.2ac00a1aa0f7c271f0af5613bfaeedb2.jpg  \n",
            " extracting: valid/photo-1602096934132-ec3c50f55ec2_jpeg.rf.d617ab58a99e473e0c8340d4b5d3ae21.jpg  \n",
            " extracting: valid/photo-1604591684189-86e88d006848_jpeg.rf.7d5db7f99767e39f57a27f4c50f3e4ef.jpg  \n",
            " extracting: valid/photo-1612119422334-b407e510081d_jpeg.rf.8bad5897011e4f330fa41dd9e4fd1001.jpg  \n",
            " extracting: valid/photo-1613925054466-df3b17123ca7_jpeg.rf.fcb44ac5e4236fbb746b9c67447d35ba.jpg  \n",
            " extracting: valid/photo-1623951599201-287d9c2c2857_jpeg.rf.b1ad65528f08f5a9bc7e5fccf651ac80.jpg  \n"
          ]
        }
      ]
    },
    {
      "cell_type": "code",
      "metadata": {
        "id": "lAoLxBEEz4FW"
      },
      "source": [
        "%cp train/_annotations.txt train/train.txt\n",
        "%cp train/_annotations.txt train.txt\n",
        "%mkdir data\n",
        "%cp valid/_annotations.txt data/val.txt\n",
        "%cp valid/*.jpg train/"
      ],
      "execution_count": null,
      "outputs": []
    },
    {
      "cell_type": "code",
      "metadata": {
        "id": "TvwlqXkSlwUm"
      },
      "source": [
        "def file_len(fname):\n",
        "  with open(fname) as f:\n",
        "    for i, l in enumerate(f):\n",
        "      pass\n",
        "  return i + 1\n",
        "\n",
        "num_classes = file_len('train/_classes.txt')"
      ],
      "execution_count": null,
      "outputs": []
    },
    {
      "cell_type": "code",
      "metadata": {
        "id": "m6xrTj1gREEc",
        "colab": {
          "base_uri": "https://localhost:8080/"
        },
        "outputId": "9e96c591-5b56-48a2-b415-c1bf3c7367c4"
      },
      "source": [
        "print(num_classes) # 2 classes - pear and lamp"
      ],
      "execution_count": null,
      "outputs": [
        {
          "output_type": "stream",
          "name": "stdout",
          "text": [
            "2\n"
          ]
        }
      ]
    },
    {
      "cell_type": "markdown",
      "metadata": {
        "id": "Uly0ZrqGjR9w"
      },
      "source": [
        "### 3. Train yoloV4 model"
      ]
    },
    {
      "cell_type": "code",
      "metadata": {
        "id": "mIlhqP2S57Ub",
        "colab": {
          "base_uri": "https://localhost:8080/"
        },
        "outputId": "1be26301-ab65-4ca0-b2db-502aa9854fe4"
      },
      "source": [
        "!python ./pytorch-YOLOv4/train.py -b 2 -s 1 -l 0.001 -g 0 -pretrained /content/pytorch-YOLOv4/cfg/yolov4.conv.137.pth -classes {num_classes} -dir ./train -epochs 50"
      ],
      "execution_count": null,
      "outputs": [
        {
          "output_type": "stream",
          "name": "stdout",
          "text": [
            "log file path:log/log_2021-11-29_11-53-39.txt\n",
            "2021-11-29 11:53:40,048 train.py[line:435] INFO: Using device cuda\n",
            "2021-11-29 11:53:42,595 train.py[line:282] INFO: Starting training:\n",
            "        Epochs:          50\n",
            "        Batch size:      2\n",
            "        Subdivisions:    1\n",
            "        Learning rate:   0.001\n",
            "        Training size:   120\n",
            "        Validation size: 16\n",
            "        Checkpoints:     True\n",
            "        Device:          cuda\n",
            "        Images size:     608\n",
            "        Optimizer:       adam\n",
            "        Dataset classes: 2\n",
            "        Train label path:train.txt\n",
            "        Pretrained:\n",
            "    \n",
            "Epoch 1/50:   0%|        | 0/120 [00:00<?, ?img/s]/usr/local/lib/python3.7/dist-packages/torch/nn/_reduction.py:43: UserWarning: size_average and reduce args will be deprecated, please use reduction='sum' instead.\n",
            "  warnings.warn(warning.format(ret))\n",
            "Epoch 1/50:  32%|▎| 38/120 [00:20<00:36,  2.26img//usr/local/lib/python3.7/dist-packages/torch/optim/lr_scheduler.py:224: UserWarning: To get the last learning rate computed by the scheduler, please use `get_last_lr()`.\n",
            "  warnings.warn(\"To get the last learning rate computed by the scheduler, \"\n",
            "2021-11-29 11:54:03,783 train.py[line:353] INFO: Train step_20: loss : 33366.66015625,loss xy : 16.13449478149414,loss wh : 2.8734145164489746,loss obj : 33339.19140625，loss cls : 8.459156036376953,loss l2 : 12178.849609375,lr : 1.6000000000000002e-10\n",
            "Epoch 1/50:  65%|▋| 78/120 [00:37<00:18,  2.25img/2021-11-29 11:54:21,487 train.py[line:353] INFO: Train step_40: loss : 33374.05859375,loss xy : 27.930213928222656,loss wh : 7.243079662322998,loss obj : 33324.1484375，loss cls : 14.736520767211914,loss l2 : 12184.2197265625,lr : 2.5600000000000003e-09\n",
            "Epoch 1/50:  98%|▉| 118/120 [00:55<00:00,  2.25img2021-11-29 11:54:39,255 train.py[line:353] INFO: Train step_60: loss : 33428.44921875,loss xy : 19.771053314208984,loss wh : 2.8824880123138428,loss obj : 33396.52734375，loss cls : 9.268610000610352,loss l2 : 12209.626953125,lr : 1.2959999999999998e-08\n",
            "Epoch 1/50: 100%|█| 120/120 [00:56<00:00,  2.24img2021-11-29 11:54:39,393 train.py[line:360] INFO: Created checkpoint directory\n",
            "2021-11-29 11:54:40,477 train.py[line:364] INFO: Checkpoint 1 saved !\n",
            "Epoch 1/50: 100%|█| 120/120 [00:57<00:00,  2.07img\n",
            "Epoch 2/50:  32%|▎| 38/120 [00:19<00:36,  2.24img/2021-11-29 11:55:00,563 train.py[line:353] INFO: Train step_80: loss : 33397.62109375,loss xy : 16.10979652404785,loss wh : 2.3519139289855957,loss obj : 33370.59765625，loss cls : 8.562983512878418,loss l2 : 12191.12890625,lr : 4.0960000000000004e-08\n",
            "Epoch 2/50:  65%|▋| 78/120 [00:37<00:18,  2.24img/2021-11-29 11:55:18,432 train.py[line:353] INFO: Train step_100: loss : 33485.95703125,loss xy : 5.3304643630981445,loss wh : 0.9990240335464478,loss obj : 33476.40625，loss cls : 3.221205472946167,loss l2 : 12230.986328125,lr : 1.0000000000000002e-07\n",
            "Epoch 2/50:  98%|▉| 118/120 [00:54<00:00,  2.26img2021-11-29 11:55:36,185 train.py[line:353] INFO: Train step_120: loss : 33271.05078125,loss xy : 21.43265151977539,loss wh : 4.174948215484619,loss obj : 33234.04296875，loss cls : 11.398719787597656,loss l2 : 12134.173828125,lr : 2.0735999999999997e-07\n",
            "Epoch 2/50: 100%|█| 120/120 [00:55<00:00,  2.25img2021-11-29 11:55:36,842 train.py[line:364] INFO: Checkpoint 2 saved !\n",
            "Epoch 2/50: 100%|█| 120/120 [00:56<00:00,  2.13img\n",
            "Epoch 3/50:  32%|▎| 38/120 [00:19<00:37,  2.21img/2021-11-29 11:55:57,173 train.py[line:353] INFO: Train step_140: loss : 33458.23828125,loss xy : 5.278039455413818,loss wh : 0.22690942883491516,loss obj : 33449.84375，loss cls : 2.8897862434387207,loss l2 : 12214.4228515625,lr : 3.841600000000001e-07\n",
            "Epoch 3/50:  65%|▋| 78/120 [00:37<00:18,  2.26img/2021-11-29 11:56:14,993 train.py[line:353] INFO: Train step_160: loss : 33288.70703125,loss xy : 10.916229248046875,loss wh : 1.0308973789215088,loss obj : 33271.25390625，loss cls : 5.509247303009033,loss l2 : 12143.3408203125,lr : 6.553600000000001e-07\n",
            "Epoch 3/50:  98%|▉| 118/120 [00:55<00:00,  2.25img2021-11-29 11:56:32,776 train.py[line:353] INFO: Train step_180: loss : 33187.1875,loss xy : 18.78089714050293,loss wh : 8.703866004943848,loss obj : 33148.546875，loss cls : 11.15563678741455,loss l2 : 12110.3828125,lr : 1.0497599999999998e-06\n",
            "Epoch 3/50: 100%|█| 120/120 [00:55<00:00,  2.24img2021-11-29 11:56:33,413 train.py[line:364] INFO: Checkpoint 3 saved !\n",
            "Epoch 3/50: 100%|█| 120/120 [00:56<00:00,  2.12img\n",
            "Epoch 4/50:  32%|▎| 38/120 [00:19<00:37,  2.21img/2021-11-29 11:56:54,003 train.py[line:353] INFO: Train step_200: loss : 33078.96875,loss xy : 12.725253105163574,loss wh : 7.082179546356201,loss obj : 33052.21875，loss cls : 6.939564228057861,loss l2 : 12063.2314453125,lr : 1.6000000000000004e-06\n",
            "Epoch 4/50:  65%|▋| 78/120 [00:37<00:18,  2.21img/2021-11-29 11:57:12,105 train.py[line:353] INFO: Train step_220: loss : 32859.0703125,loss xy : 17.61263656616211,loss wh : 5.66433572769165,loss obj : 32827.28515625，loss cls : 8.508572578430176,loss l2 : 11954.275390625,lr : 2.34256e-06\n",
            "Epoch 4/50:  98%|▉| 118/120 [00:55<00:00,  2.25img2021-11-29 11:57:29,934 train.py[line:353] INFO: Train step_240: loss : 32506.884765625,loss xy : 15.203391075134277,loss wh : 3.249100685119629,loss obj : 32480.1953125，loss cls : 8.236924171447754,loss l2 : 11787.0400390625,lr : 3.3177599999999996e-06\n",
            "Epoch 4/50: 100%|█| 120/120 [00:56<00:00,  2.24img2021-11-29 11:57:30,566 train.py[line:364] INFO: Checkpoint 4 saved !\n",
            "Epoch 4/50: 100%|█| 120/120 [00:57<00:00,  2.10img\n",
            "Epoch 5/50:  32%|▎| 38/120 [00:20<00:36,  2.24img/2021-11-29 11:57:51,760 train.py[line:353] INFO: Train step_260: loss : 32057.544921875,loss xy : 11.13795280456543,loss wh : 5.79090690612793,loss obj : 32035.392578125，loss cls : 5.222133636474609,loss l2 : 11579.119140625,lr : 4.569760000000001e-06\n",
            "Epoch 5/50:  65%|▋| 78/120 [00:38<00:18,  2.23img/2021-11-29 11:58:09,701 train.py[line:353] INFO: Train step_280: loss : 31513.818359375,loss xy : 10.829258918762207,loss wh : 0.7742441892623901,loss obj : 31496.796875，loss cls : 5.4180498123168945,loss l2 : 11317.9326171875,lr : 6.146560000000002e-06\n",
            "Epoch 5/50:  98%|▉| 118/120 [00:56<00:00,  2.27img2021-11-29 11:58:27,517 train.py[line:353] INFO: Train step_300: loss : 30353.197265625,loss xy : 4.566940784454346,loss wh : 0.2350715696811676,loss obj : 30345.673828125，loss cls : 2.719853639602661,loss l2 : 10751.392578125,lr : 8.1e-06\n",
            "Epoch 5/50: 100%|█| 120/120 [00:56<00:00,  2.25img2021-11-29 11:58:28,130 train.py[line:364] INFO: Checkpoint 5 saved !\n",
            "Epoch 5/50: 100%|█| 120/120 [00:57<00:00,  2.08img\n",
            "Epoch 6/50:  32%|▎| 38/120 [00:19<00:36,  2.22img/2021-11-29 11:58:48,578 train.py[line:353] INFO: Train step_320: loss : 29366.6171875,loss xy : 13.971105575561523,loss wh : 1.7997326850891113,loss obj : 29344.5390625，loss cls : 6.306698799133301,loss l2 : 10279.244140625,lr : 1.0485760000000001e-05\n",
            "Epoch 6/50:  65%|▋| 78/120 [00:37<00:18,  2.25img/2021-11-29 11:59:06,515 train.py[line:353] INFO: Train step_340: loss : 27953.837890625,loss xy : 15.799978256225586,loss wh : 0.7038977742195129,loss obj : 27929.078125，loss cls : 8.256303787231445,loss l2 : 9606.64453125,lr : 1.3363360000000005e-05\n",
            "Epoch 6/50:  98%|▉| 118/120 [00:55<00:00,  2.25img2021-11-29 11:59:24,304 train.py[line:353] INFO: Train step_360: loss : 26795.111328125,loss xy : 15.797187805175781,loss wh : 2.643833637237549,loss obj : 26768.8515625，loss cls : 7.819314956665039,loss l2 : 9050.658203125,lr : 1.6796159999999997e-05\n",
            "Epoch 6/50: 100%|█| 120/120 [00:56<00:00,  2.23img2021-11-29 11:59:24,928 train.py[line:364] INFO: Checkpoint 6 saved !\n",
            "Epoch 6/50: 100%|█| 120/120 [00:56<00:00,  2.11img\n",
            "Epoch 7/50:  32%|▎| 38/120 [00:20<00:37,  2.19img/2021-11-29 11:59:45,953 train.py[line:353] INFO: Train step_380: loss : 25137.55859375,loss xy : 27.49530029296875,loss wh : 12.731266021728516,loss obj : 25083.984375，loss cls : 13.348535537719727,loss l2 : 8268.294921875,lr : 2.085136e-05\n",
            "Epoch 7/50:  65%|▋| 78/120 [00:38<00:18,  2.24img/2021-11-29 12:00:03,873 train.py[line:353] INFO: Train step_400: loss : 23577.294921875,loss xy : 4.798929214477539,loss wh : 0.4410718083381653,loss obj : 23569.37109375，loss cls : 2.6837854385375977,loss l2 : 7528.4345703125,lr : 2.5600000000000006e-05\n",
            "Epoch 7/50:  98%|▉| 118/120 [00:55<00:00,  2.23img2021-11-29 12:00:21,723 train.py[line:353] INFO: Train step_420: loss : 21617.017578125,loss xy : 18.796907424926758,loss wh : 2.4482877254486084,loss obj : 21586.703125，loss cls : 9.06750202178955,loss l2 : 6611.7080078125,lr : 3.111696e-05\n",
            "Epoch 7/50: 100%|█| 120/120 [00:56<00:00,  2.23img2021-11-29 12:00:22,448 train.py[line:364] INFO: Checkpoint 7 saved !\n",
            "Epoch 7/50: 100%|█| 120/120 [00:57<00:00,  2.09img\n",
            "Epoch 8/50:  32%|▎| 38/120 [00:19<00:36,  2.24img/2021-11-29 12:00:42,678 train.py[line:353] INFO: Train step_440: loss : 19867.236328125,loss xy : 8.106423377990723,loss wh : 0.7179228663444519,loss obj : 19855.169921875，loss cls : 3.2427310943603516,loss l2 : 5819.34814453125,lr : 3.748096e-05\n",
            "Epoch 8/50:  65%|▋| 78/120 [00:37<00:18,  2.26img/2021-11-29 12:01:00,461 train.py[line:353] INFO: Train step_460: loss : 18637.6796875,loss xy : 16.826061248779297,loss wh : 1.43571138381958,loss obj : 18610.736328125，loss cls : 8.681788444519043,loss l2 : 5278.109375,lr : 4.477456000000001e-05\n",
            "Epoch 8/50:  98%|▉| 118/120 [00:54<00:00,  2.27img2021-11-29 12:01:18,184 train.py[line:353] INFO: Train step_480: loss : 17029.826171875,loss xy : 15.654071807861328,loss wh : 0.8879498243331909,loss obj : 17004.55859375，loss cls : 8.724145889282227,loss l2 : 4584.69140625,lr : 5.308415999999999e-05\n",
            "Epoch 8/50: 100%|█| 120/120 [00:55<00:00,  2.25img2021-11-29 12:01:18,810 train.py[line:364] INFO: Checkpoint 8 saved !\n",
            "Epoch 8/50: 100%|█| 120/120 [00:56<00:00,  2.13img\n",
            "Epoch 9/50:  32%|▎| 38/120 [00:18<00:36,  2.25img/2021-11-29 12:01:38,680 train.py[line:353] INFO: Train step_500: loss : 15762.2509765625,loss xy : 15.705227851867676,loss wh : 1.524338960647583,loss obj : 15737.46875，loss cls : 7.552830219268799,loss l2 : 4058.1103515625,lr : 6.25e-05\n",
            "Epoch 9/50:  65%|▋| 78/120 [00:36<00:19,  2.21img/2021-11-29 12:01:56,652 train.py[line:353] INFO: Train step_520: loss : 14233.380859375,loss xy : 10.621321678161621,loss wh : 1.5141232013702393,loss obj : 14215.3564453125，loss cls : 5.888186931610107,loss l2 : 3435.471923828125,lr : 7.311616000000002e-05\n",
            "Epoch 9/50:  98%|▉| 118/120 [00:54<00:00,  2.25img2021-11-29 12:02:14,411 train.py[line:353] INFO: Train step_540: loss : 13664.541015625,loss xy : 16.028003692626953,loss wh : 3.7802586555480957,loss obj : 13638.197265625，loss cls : 6.534868240356445,loss l2 : 3218.064453125,lr : 8.503056000000002e-05\n",
            "Epoch 9/50: 100%|█| 120/120 [00:55<00:00,  2.25img2021-11-29 12:02:15,040 train.py[line:364] INFO: Checkpoint 9 saved !\n",
            "Epoch 9/50: 100%|█| 120/120 [00:56<00:00,  2.13img\n",
            "Epoch 10/50:  32%|▎| 38/120 [00:19<00:36,  2.23img2021-11-29 12:02:35,467 train.py[line:353] INFO: Train step_560: loss : 12334.0302734375,loss xy : 8.299386978149414,loss wh : 1.0905598402023315,loss obj : 12320.6513671875，loss cls : 3.9890265464782715,loss l2 : 2694.921630859375,lr : 9.834496000000003e-05\n",
            "Epoch 10/50:  65%|▋| 78/120 [00:37<00:18,  2.25img2021-11-29 12:02:53,280 train.py[line:353] INFO: Train step_580: loss : 11656.330078125,loss xy : 24.920602798461914,loss wh : 2.437392234802246,loss obj : 11616.791015625，loss cls : 12.18020248413086,loss l2 : 2448.53271484375,lr : 0.00011316495999999998\n",
            "Epoch 10/50:  98%|▉| 118/120 [00:55<00:00,  2.24im2021-11-29 12:03:11,078 train.py[line:353] INFO: Train step_600: loss : 10695.3076171875,loss xy : 13.304230690002441,loss wh : 0.5205426812171936,loss obj : 10674.3818359375，loss cls : 7.100698471069336,loss l2 : 2106.046142578125,lr : 0.0001296\n",
            "Epoch 10/50: 100%|█| 120/120 [00:56<00:00,  2.23im2021-11-29 12:03:11,712 train.py[line:364] INFO: Checkpoint 10 saved !\n",
            "Epoch 10/50: 100%|█| 120/120 [00:56<00:00,  2.12im\n",
            "Epoch 11/50:  32%|▎| 38/120 [00:19<00:37,  2.22img2021-11-29 12:03:31,896 train.py[line:353] INFO: Train step_620: loss : 10085.2685546875,loss xy : 18.459823608398438,loss wh : 0.6583357453346252,loss obj : 10056.232421875，loss cls : 9.91801643371582,loss l2 : 1909.6014404296875,lr : 0.00014776335999999997\n",
            "Epoch 11/50:  65%|▋| 78/120 [00:37<00:18,  2.23img2021-11-29 12:03:49,852 train.py[line:353] INFO: Train step_640: loss : 9161.6982421875,loss xy : 12.53167724609375,loss wh : 5.284714221954346,loss obj : 9135.4365234375，loss cls : 8.445058822631836,loss l2 : 1613.7930908203125,lr : 0.00016777216000000002\n",
            "Epoch 11/50:  98%|▉| 118/120 [00:55<00:00,  2.26im2021-11-29 12:04:07,642 train.py[line:353] INFO: Train step_660: loss : 8540.509765625,loss xy : 21.27557945251465,loss wh : 2.236400842666626,loss obj : 8506.3427734375，loss cls : 10.655166625976562,loss l2 : 1420.72607421875,lr : 0.00018974736000000004\n",
            "Epoch 11/50: 100%|█| 120/120 [00:55<00:00,  2.24im2021-11-29 12:04:08,245 train.py[line:364] INFO: Checkpoint 11 saved !\n",
            "Epoch 11/50: 100%|█| 120/120 [00:56<00:00,  2.12im\n",
            "Epoch 12/50:  32%|▎| 38/120 [00:19<00:36,  2.22img2021-11-29 12:04:28,694 train.py[line:353] INFO: Train step_680: loss : 7629.19384765625,loss xy : 10.237354278564453,loss wh : 0.8972399234771729,loss obj : 7612.33154296875，loss cls : 5.7274885177612305,loss l2 : 1157.295654296875,lr : 0.0002138137600000001\n",
            "Epoch 12/50:  65%|▋| 78/120 [00:37<00:18,  2.23img2021-11-29 12:04:46,710 train.py[line:353] INFO: Train step_700: loss : 6928.78173828125,loss xy : 13.680075645446777,loss wh : 0.8426454067230225,loss obj : 6906.41455078125，loss cls : 7.844387054443359,loss l2 : 974.081298828125,lr : 0.00024009999999999995\n",
            "Epoch 12/50:  98%|▉| 118/120 [00:55<00:00,  2.25im2021-11-29 12:05:04,505 train.py[line:353] INFO: Train step_720: loss : 6122.849609375,loss xy : 7.4843549728393555,loss wh : 0.7088353037834167,loss obj : 6111.47900390625，loss cls : 3.1774048805236816,loss l2 : 774.9666748046875,lr : 0.00026873855999999996\n",
            "Epoch 12/50: 100%|█| 120/120 [00:56<00:00,  2.25im2021-11-29 12:05:05,137 train.py[line:364] INFO: Checkpoint 12 saved !\n",
            "Epoch 12/50: 100%|█| 120/120 [00:56<00:00,  2.11im\n",
            "Epoch 13/50:  32%|▎| 38/120 [00:19<00:37,  2.18img2021-11-29 12:05:25,884 train.py[line:353] INFO: Train step_740: loss : 5586.71435546875,loss xy : 10.439727783203125,loss wh : 1.1223762035369873,loss obj : 5570.31494140625，loss cls : 4.837352752685547,loss l2 : 658.577392578125,lr : 0.00029986575999999996\n",
            "Epoch 13/50:  65%|▋| 78/120 [00:37<00:18,  2.23img2021-11-29 12:05:43,767 train.py[line:353] INFO: Train step_760: loss : 4931.86669921875,loss xy : 4.851027011871338,loss wh : 0.1795566827058792,loss obj : 4923.9755859375，loss cls : 2.8601179122924805,loss l2 : 520.8286743164062,lr : 0.00033362176\n",
            "Epoch 13/50:  98%|▉| 118/120 [00:55<00:00,  2.25im2021-11-29 12:06:01,559 train.py[line:353] INFO: Train step_780: loss : 4466.9287109375,loss xy : 16.777416229248047,loss wh : 2.2309322357177734,loss obj : 4437.939453125，loss cls : 9.98082160949707,loss l2 : 439.6802673339844,lr : 0.00037015056000000006\n",
            "Epoch 13/50: 100%|█| 120/120 [00:56<00:00,  2.24im2021-11-29 12:06:02,192 train.py[line:364] INFO: Checkpoint 13 saved !\n",
            "Epoch 13/50: 100%|█| 120/120 [00:57<00:00,  2.10im\n",
            "Epoch 14/50:  32%|▎| 38/120 [00:19<00:36,  2.23img2021-11-29 12:06:23,060 train.py[line:353] INFO: Train step_800: loss : 3932.957275390625,loss xy : 16.218963623046875,loss wh : 2.351306915283203,loss obj : 3903.90234375，loss cls : 10.484630584716797,loss l2 : 347.89947509765625,lr : 0.0004096000000000001\n",
            "Epoch 14/50:  65%|▋| 78/120 [00:37<00:18,  2.24img2021-11-29 12:06:40,911 train.py[line:353] INFO: Train step_820: loss : 3543.383544921875,loss xy : 10.628324508666992,loss wh : 3.500645160675049,loss obj : 3524.0205078125，loss cls : 5.234112739562988,loss l2 : 289.143310546875,lr : 0.0004521217599999999\n",
            "Epoch 14/50:  98%|▉| 118/120 [00:55<00:00,  2.26im2021-11-29 12:06:58,754 train.py[line:353] INFO: Train step_840: loss : 3038.852294921875,loss xy : 20.89012336730957,loss wh : 5.469054698944092,loss obj : 3001.23193359375，loss cls : 11.26119613647461,loss l2 : 223.65951538085938,lr : 0.00049787136\n",
            "Epoch 14/50: 100%|█| 120/120 [00:56<00:00,  2.24im2021-11-29 12:06:59,381 train.py[line:364] INFO: Checkpoint 14 saved !\n",
            "Epoch 14/50: 100%|█| 120/120 [00:57<00:00,  2.10im\n",
            "Epoch 15/50:  32%|▎| 38/120 [00:19<00:36,  2.22img2021-11-29 12:07:20,025 train.py[line:353] INFO: Train step_860: loss : 2667.364990234375,loss xy : 15.986693382263184,loss wh : 2.469045877456665,loss obj : 2642.005615234375，loss cls : 6.903541564941406,loss l2 : 170.5162353515625,lr : 0.00054700816\n",
            "Epoch 15/50:  65%|▋| 78/120 [00:37<00:18,  2.24img2021-11-29 12:07:37,927 train.py[line:353] INFO: Train step_880: loss : 2361.75830078125,loss xy : 4.401659965515137,loss wh : 0.5011811256408691,loss obj : 2354.759033203125，loss cls : 2.0965538024902344,loss l2 : 131.54782104492188,lr : 0.00059969536\n",
            "Epoch 15/50:  98%|▉| 118/120 [00:55<00:00,  2.26im2021-11-29 12:07:55,635 train.py[line:353] INFO: Train step_900: loss : 2081.4482421875,loss xy : 5.169658660888672,loss wh : 0.5927291512489319,loss obj : 2072.2578125，loss cls : 3.427877426147461,loss l2 : 104.44784545898438,lr : 0.0006561000000000001\n",
            "Epoch 15/50: 100%|█| 120/120 [00:56<00:00,  2.26im2021-11-29 12:07:56,254 train.py[line:364] INFO: Checkpoint 15 saved !\n",
            "Epoch 15/50: 100%|█| 120/120 [00:56<00:00,  2.11im\n",
            "Epoch 16/50:  32%|▎| 38/120 [00:19<00:36,  2.24img2021-11-29 12:08:17,013 train.py[line:353] INFO: Train step_920: loss : 1763.10107421875,loss xy : 4.885420799255371,loss wh : 0.3245367705821991,loss obj : 1754.9986572265625，loss cls : 2.8924336433410645,loss l2 : 74.13436126708984,lr : 0.0007163929600000001\n",
            "Epoch 16/50:  65%|▋| 78/120 [00:37<00:18,  2.25img2021-11-29 12:08:34,831 train.py[line:353] INFO: Train step_940: loss : 1611.5611572265625,loss xy : 18.732236862182617,loss wh : 2.3633084297180176,loss obj : 1581.4755859375，loss cls : 8.990030288696289,loss l2 : 72.07734680175781,lr : 0.0007807489599999998\n",
            "Epoch 16/50:  98%|▉| 118/120 [00:55<00:00,  2.26im2021-11-29 12:08:52,582 train.py[line:353] INFO: Train step_960: loss : 1425.5504150390625,loss xy : 22.774173736572266,loss wh : 2.1561295986175537,loss obj : 1391.6090087890625，loss cls : 9.011119842529297,loss l2 : 60.71458053588867,lr : 0.0008493465599999999\n",
            "Epoch 16/50: 100%|█| 120/120 [00:56<00:00,  2.25im2021-11-29 12:08:53,216 train.py[line:364] INFO: Checkpoint 16 saved !\n",
            "Epoch 16/50: 100%|█| 120/120 [00:56<00:00,  2.11im\n",
            "Epoch 17/50:  32%|▎| 38/120 [00:19<00:37,  2.19img2021-11-29 12:09:13,372 train.py[line:353] INFO: Train step_980: loss : 1234.8201904296875,loss xy : 16.021358489990234,loss wh : 1.0703444480895996,loss obj : 1207.8865966796875，loss cls : 9.8418607711792,loss l2 : 45.75197982788086,lr : 0.0009223681599999999\n",
            "Epoch 17/50:  65%|▋| 78/120 [00:37<00:18,  2.24img2021-11-29 12:09:31,237 train.py[line:353] INFO: Train step_1000: loss : 1073.7943115234375,loss xy : 14.171675682067871,loss wh : 1.7883999347686768,loss obj : 1053.1739501953125，loss cls : 4.660302639007568,loss l2 : 36.12849807739258,lr : 0.001\n",
            "Epoch 17/50:  98%|▉| 118/120 [00:54<00:00,  2.24im2021-11-29 12:09:49,085 train.py[line:353] INFO: Train step_1020: loss : 1002.6171875,loss xy : 29.827228546142578,loss wh : 2.3714513778686523,loss obj : 955.336181640625，loss cls : 15.082313537597656,loss l2 : 42.14213943481445,lr : 0.001\n",
            "Epoch 17/50: 100%|█| 120/120 [00:55<00:00,  2.23im2021-11-29 12:09:49,691 train.py[line:364] INFO: Checkpoint 17 saved !\n",
            "Epoch 17/50: 100%|█| 120/120 [00:56<00:00,  2.12im\n",
            "Epoch 18/50:  32%|▎| 38/120 [00:19<00:36,  2.24img2021-11-29 12:10:10,116 train.py[line:353] INFO: Train step_1040: loss : 841.26171875,loss xy : 7.684995651245117,loss wh : 0.1786053329706192,loss obj : 828.6638793945312，loss cls : 4.73423957824707,loss l2 : 21.302764892578125,lr : 0.001\n",
            "Epoch 18/50:  65%|▋| 78/120 [00:37<00:18,  2.26img2021-11-29 12:10:27,906 train.py[line:353] INFO: Train step_1060: loss : 737.5081176757812,loss xy : 4.216029644012451,loss wh : 0.26198551058769226,loss obj : 729.385009765625，loss cls : 3.6451053619384766,loss l2 : 16.631511688232422,lr : 0.001\n",
            "Epoch 18/50:  98%|▉| 118/120 [00:54<00:00,  2.27im2021-11-29 12:10:45,532 train.py[line:353] INFO: Train step_1080: loss : 665.1639404296875,loss xy : 5.077358245849609,loss wh : 0.09531160444021225,loss obj : 657.58740234375，loss cls : 2.403864860534668,loss l2 : 13.355852127075195,lr : 0.001\n",
            "Epoch 18/50: 100%|█| 120/120 [00:55<00:00,  2.27im2021-11-29 12:10:46,137 train.py[line:364] INFO: Checkpoint 18 saved !\n",
            "Epoch 18/50: 100%|█| 120/120 [00:56<00:00,  2.13im\n",
            "Epoch 19/50:  32%|▎| 38/120 [00:19<00:36,  2.24img2021-11-29 12:11:06,183 train.py[line:353] INFO: Train step_1100: loss : 635.3111572265625,loss xy : 5.886963844299316,loss wh : 0.3384534418582916,loss obj : 626.732421875，loss cls : 2.3533449172973633,loss l2 : 13.359411239624023,lr : 0.001\n",
            "Epoch 19/50:  65%|▋| 78/120 [00:36<00:18,  2.26img2021-11-29 12:11:23,919 train.py[line:353] INFO: Train step_1120: loss : 601.7450561523438,loss xy : 17.633527755737305,loss wh : 4.294159412384033,loss obj : 569.5867309570312，loss cls : 10.230631828308105,loss l2 : 27.095108032226562,lr : 0.001\n",
            "Epoch 19/50:  98%|▉| 118/120 [00:54<00:00,  2.27im2021-11-29 12:11:41,475 train.py[line:353] INFO: Train step_1140: loss : 544.794921875,loss xy : 14.066460609436035,loss wh : 3.985908269882202,loss obj : 520.4590454101562，loss cls : 6.283500671386719,loss l2 : 21.758939743041992,lr : 0.001\n",
            "Epoch 19/50: 100%|█| 120/120 [00:55<00:00,  2.26im2021-11-29 12:11:42,113 train.py[line:364] INFO: Checkpoint 19 saved !\n",
            "Epoch 19/50: 100%|█| 120/120 [00:55<00:00,  2.14im\n",
            "Epoch 20/50:  32%|▎| 38/120 [00:19<00:36,  2.24img2021-11-29 12:12:02,666 train.py[line:353] INFO: Train step_1160: loss : 490.1937561035156,loss xy : 9.760013580322266,loss wh : 1.2874159812927246,loss obj : 474.4574890136719，loss cls : 4.688857078552246,loss l2 : 13.841054916381836,lr : 0.001\n",
            "Epoch 20/50:  65%|▋| 78/120 [00:37<00:18,  2.26img2021-11-29 12:12:20,470 train.py[line:353] INFO: Train step_1180: loss : 493.5945129394531,loss xy : 23.23377227783203,loss wh : 1.7885544300079346,loss obj : 458.99603271484375，loss cls : 9.576147079467773,loss l2 : 19.507125854492188,lr : 0.001\n",
            "Epoch 20/50:  98%|▉| 118/120 [00:55<00:00,  2.29im2021-11-29 12:12:38,051 train.py[line:353] INFO: Train step_1200: loss : 427.33758544921875,loss xy : 12.931395530700684,loss wh : 0.6859166026115417,loss obj : 407.582275390625，loss cls : 6.13799524307251,loss l2 : 11.918889045715332,lr : 0.001\n",
            "Epoch 20/50: 100%|█| 120/120 [00:55<00:00,  2.28im2021-11-29 12:12:38,673 train.py[line:364] INFO: Checkpoint 20 saved !\n",
            "Epoch 20/50: 100%|█| 120/120 [00:56<00:00,  2.12im\n",
            "Epoch 21/50:  32%|▎| 38/120 [00:19<00:36,  2.24img2021-11-29 12:12:59,160 train.py[line:353] INFO: Train step_1220: loss : 408.8343811035156,loss xy : 10.24466609954834,loss wh : 1.5768502950668335,loss obj : 394.46929931640625，loss cls : 2.543567180633545,loss l2 : 11.057164192199707,lr : 0.001\n",
            "Epoch 21/50:  65%|▋| 78/120 [00:37<00:18,  2.27img2021-11-29 12:13:16,816 train.py[line:353] INFO: Train step_1240: loss : 390.018310546875,loss xy : 11.61137580871582,loss wh : 1.162189245223999,loss obj : 368.8635559082031，loss cls : 8.381194114685059,loss l2 : 13.768925666809082,lr : 0.001\n",
            "Epoch 21/50:  98%|▉| 118/120 [00:54<00:00,  2.29im2021-11-29 12:13:34,422 train.py[line:353] INFO: Train step_1260: loss : 339.24786376953125,loss xy : 6.790797233581543,loss wh : 0.4357558488845825,loss obj : 329.9742431640625，loss cls : 2.0470638275146484,loss l2 : 6.757314682006836,lr : 0.001\n",
            "Epoch 21/50: 100%|█| 120/120 [00:55<00:00,  2.27im2021-11-29 12:13:35,022 train.py[line:364] INFO: Checkpoint 21 saved !\n",
            "Epoch 21/50: 100%|█| 120/120 [00:56<00:00,  2.13im\n",
            "Epoch 22/50:  32%|▎| 38/120 [00:19<00:36,  2.27img2021-11-29 12:13:55,054 train.py[line:353] INFO: Train step_1280: loss : 322.9031982421875,loss xy : 7.4257049560546875,loss wh : 0.09010853618383408,loss obj : 315.0263366699219，loss cls : 0.3610559105873108,loss l2 : 4.6385626792907715,lr : 0.001\n",
            "Epoch 22/50:  65%|▋| 78/120 [00:36<00:18,  2.28img2021-11-29 12:14:12,679 train.py[line:353] INFO: Train step_1300: loss : 300.7845764160156,loss xy : 5.084957599639893,loss wh : 0.2794294059276581,loss obj : 295.2061462402344，loss cls : 0.21404105424880981,loss l2 : 4.260765552520752,lr : 0.001\n",
            "Epoch 22/50:  98%|▉| 118/120 [00:54<00:00,  2.28im2021-11-29 12:14:30,205 train.py[line:353] INFO: Train step_1320: loss : 288.1690979003906,loss xy : 4.831544876098633,loss wh : 0.7173452377319336,loss obj : 282.1776428222656，loss cls : 0.44256168603897095,loss l2 : 5.236652851104736,lr : 0.001\n",
            "Epoch 22/50: 100%|█| 120/120 [00:55<00:00,  2.28im2021-11-29 12:14:30,834 train.py[line:364] INFO: Checkpoint 22 saved !\n",
            "Epoch 22/50: 100%|█| 120/120 [00:55<00:00,  2.15im\n",
            "Epoch 23/50:  32%|▎| 38/120 [00:19<00:36,  2.25img2021-11-29 12:14:50,818 train.py[line:353] INFO: Train step_1340: loss : 291.5447082519531,loss xy : 12.073432922363281,loss wh : 0.8724713325500488,loss obj : 275.0901184082031，loss cls : 3.5086960792541504,loss l2 : 8.202791213989258,lr : 0.001\n",
            "Epoch 23/50:  65%|▋| 78/120 [00:36<00:18,  2.27img2021-11-29 12:15:08,504 train.py[line:353] INFO: Train step_1360: loss : 313.1177673339844,loss xy : 21.522747039794922,loss wh : 1.9047856330871582,loss obj : 281.23687744140625，loss cls : 8.453367233276367,loss l2 : 16.4793758392334,lr : 0.001\n",
            "Epoch 23/50:  98%|▉| 118/120 [00:54<00:00,  2.30im2021-11-29 12:15:26,008 train.py[line:353] INFO: Train step_1380: loss : 246.91957092285156,loss xy : 5.729012489318848,loss wh : 0.22629672288894653,loss obj : 240.79840087890625，loss cls : 0.16585999727249146,loss l2 : 3.747997522354126,lr : 0.001\n",
            "Epoch 23/50: 100%|█| 120/120 [00:55<00:00,  2.29im2021-11-29 12:15:26,625 train.py[line:364] INFO: Checkpoint 23 saved !\n",
            "Epoch 23/50: 100%|█| 120/120 [00:55<00:00,  2.15im\n",
            "Epoch 24/50:  32%|▎| 38/120 [00:19<00:36,  2.26img2021-11-29 12:15:46,720 train.py[line:353] INFO: Train step_1400: loss : 249.7852020263672,loss xy : 10.672151565551758,loss wh : 2.336089849472046,loss obj : 236.1236572265625，loss cls : 0.6533047556877136,loss l2 : 9.410795211791992,lr : 0.001\n",
            "Epoch 24/50:  65%|▋| 78/120 [00:36<00:18,  2.27img2021-11-29 12:16:04,386 train.py[line:353] INFO: Train step_1420: loss : 226.74874877929688,loss xy : 6.043205738067627,loss wh : 0.430778443813324,loss obj : 219.8446502685547，loss cls : 0.4301123321056366,loss l2 : 3.8929641246795654,lr : 0.001\n",
            "Epoch 24/50:  98%|▉| 118/120 [00:54<00:00,  2.28im2021-11-29 12:16:21,926 train.py[line:353] INFO: Train step_1440: loss : 211.94444274902344,loss xy : 5.825884819030762,loss wh : 0.07743635028600693,loss obj : 204.9330596923828，loss cls : 1.1080690622329712,loss l2 : 2.493435859680176,lr : 0.001\n",
            "Epoch 24/50: 100%|█| 120/120 [00:55<00:00,  2.28im2021-11-29 12:16:22,574 train.py[line:364] INFO: Checkpoint 24 saved !\n",
            "Epoch 24/50: 100%|█| 120/120 [00:55<00:00,  2.14im\n",
            "Epoch 25/50:  32%|▎| 38/120 [00:19<00:36,  2.25img2021-11-29 12:16:43,145 train.py[line:353] INFO: Train step_1460: loss : 250.1347198486328,loss xy : 15.12382984161377,loss wh : 6.291414737701416,loss obj : 224.6860809326172，loss cls : 4.033400535583496,loss l2 : 21.459455490112305,lr : 0.001\n",
            "Epoch 25/50:  65%|▋| 78/120 [00:37<00:18,  2.24img2021-11-29 12:17:00,846 train.py[line:353] INFO: Train step_1480: loss : 215.20098876953125,loss xy : 9.325159072875977,loss wh : 0.7791112661361694,loss obj : 199.4703826904297，loss cls : 5.626338005065918,loss l2 : 7.373665809631348,lr : 0.001\n",
            "Epoch 25/50:  98%|▉| 118/120 [00:54<00:00,  2.29im2021-11-29 12:17:18,396 train.py[line:353] INFO: Train step_1500: loss : 220.9909210205078,loss xy : 15.835397720336914,loss wh : 1.7977086305618286,loss obj : 200.66619873046875，loss cls : 2.691619873046875,loss l2 : 11.422268867492676,lr : 0.001\n",
            "Epoch 25/50: 100%|█| 120/120 [00:55<00:00,  2.28im2021-11-29 12:17:19,000 train.py[line:364] INFO: Checkpoint 25 saved !\n",
            "Epoch 25/50: 100%|█| 120/120 [00:56<00:00,  2.13im\n",
            "Epoch 26/50:  32%|▎| 38/120 [00:19<00:36,  2.26img2021-11-29 12:17:39,142 train.py[line:353] INFO: Train step_1520: loss : 205.7279510498047,loss xy : 11.988447189331055,loss wh : 1.975320816040039,loss obj : 189.8156280517578，loss cls : 1.9485695362091064,loss l2 : 9.925554275512695,lr : 0.001\n",
            "Epoch 26/50:  65%|▋| 78/120 [00:36<00:18,  2.26img2021-11-29 12:17:56,804 train.py[line:353] INFO: Train step_1540: loss : 184.8203582763672,loss xy : 7.386387348175049,loss wh : 0.22827908396720886,loss obj : 175.9451141357422，loss cls : 1.260580062866211,loss l2 : 3.618184804916382,lr : 0.001\n",
            "Epoch 26/50:  98%|▉| 118/120 [00:54<00:00,  2.28im2021-11-29 12:18:14,366 train.py[line:353] INFO: Train step_1560: loss : 164.97511291503906,loss xy : 5.156540870666504,loss wh : 0.36866796016693115,loss obj : 159.25198364257812，loss cls : 0.1979232281446457,loss l2 : 2.739313840866089,lr : 0.001\n",
            "Epoch 26/50: 100%|█| 120/120 [00:55<00:00,  2.27im2021-11-29 12:18:14,984 train.py[line:364] INFO: Checkpoint 26 saved !\n",
            "Epoch 26/50: 100%|█| 120/120 [00:55<00:00,  2.14im\n",
            "Epoch 27/50:  32%|▎| 38/120 [00:19<00:36,  2.25img2021-11-29 12:18:35,209 train.py[line:353] INFO: Train step_1580: loss : 212.42251586914062,loss xy : 18.157970428466797,loss wh : 2.713235378265381,loss obj : 185.40695190429688，loss cls : 6.144365310668945,loss l2 : 15.944450378417969,lr : 0.001\n",
            "Epoch 27/50:  65%|▋| 78/120 [00:37<00:18,  2.27img2021-11-29 12:18:52,901 train.py[line:353] INFO: Train step_1600: loss : 175.44810485839844,loss xy : 13.85761547088623,loss wh : 0.2842157483100891,loss obj : 160.17733764648438，loss cls : 1.1289323568344116,loss l2 : 5.282044410705566,lr : 0.001\n",
            "Epoch 27/50:  98%|▉| 118/120 [00:54<00:00,  2.29im2021-11-29 12:19:10,391 train.py[line:353] INFO: Train step_1620: loss : 172.22525024414062,loss xy : 11.921125411987305,loss wh : 0.43729960918426514,loss obj : 154.60667419433594，loss cls : 5.260139465332031,loss l2 : 7.658100605010986,lr : 0.001\n",
            "Epoch 27/50: 100%|█| 120/120 [00:55<00:00,  2.29im2021-11-29 12:19:11,017 train.py[line:364] INFO: Checkpoint 27 saved !\n",
            "Epoch 27/50: 100%|█| 120/120 [00:56<00:00,  2.14im\n",
            "Epoch 28/50:  32%|▎| 38/120 [00:19<00:36,  2.26img2021-11-29 12:19:31,491 train.py[line:353] INFO: Train step_1640: loss : 156.41880798339844,loss xy : 7.320098876953125,loss wh : 3.231205940246582,loss obj : 143.9297332763672，loss cls : 1.9377745389938354,loss l2 : 10.190516471862793,lr : 0.001\n",
            "Epoch 28/50:  65%|▋| 78/120 [00:37<00:18,  2.26img2021-11-29 12:19:49,143 train.py[line:353] INFO: Train step_1660: loss : 139.0628662109375,loss xy : 4.099218368530273,loss wh : 0.04686088487505913,loss obj : 134.7718963623047，loss cls : 0.14489048719406128,loss l2 : 2.2375969886779785,lr : 0.001\n",
            "Epoch 28/50:  98%|▉| 118/120 [00:54<00:00,  2.28im2021-11-29 12:20:06,677 train.py[line:353] INFO: Train step_1680: loss : 149.8475341796875,loss xy : 12.610626220703125,loss wh : 0.08367189019918442,loss obj : 135.0865020751953，loss cls : 2.0667359828948975,loss l2 : 4.650473117828369,lr : 0.001\n",
            "Epoch 28/50: 100%|█| 120/120 [00:55<00:00,  2.27im2021-11-29 12:20:07,260 train.py[line:364] INFO: Checkpoint 28 saved !\n",
            "Epoch 28/50: 100%|█| 120/120 [00:56<00:00,  2.13im\n",
            "Epoch 29/50:  32%|▎| 38/120 [00:18<00:36,  2.26img2021-11-29 12:20:27,001 train.py[line:353] INFO: Train step_1700: loss : 149.24673461914062,loss xy : 7.597317695617676,loss wh : 0.3761627674102783,loss obj : 137.32594299316406，loss cls : 3.9473142623901367,loss l2 : 5.311833381652832,lr : 0.001\n",
            "Epoch 29/50:  65%|▋| 78/120 [00:36<00:18,  2.27img2021-11-29 12:20:44,630 train.py[line:353] INFO: Train step_1720: loss : 130.42506408691406,loss xy : 4.553444862365723,loss wh : 1.3584624528884888,loss obj : 124.21549224853516，loss cls : 0.29766738414764404,loss l2 : 5.1562652587890625,lr : 0.001\n",
            "Epoch 29/50:  98%|▉| 118/120 [00:54<00:00,  2.27im2021-11-29 12:21:02,191 train.py[line:353] INFO: Train step_1740: loss : 132.4535675048828,loss xy : 6.686184883117676,loss wh : 1.2239375114440918,loss obj : 122.88561248779297，loss cls : 1.6578412055969238,loss l2 : 6.22736930847168,lr : 0.001\n",
            "Epoch 29/50: 100%|█| 120/120 [00:54<00:00,  2.27im2021-11-29 12:21:02,811 train.py[line:364] INFO: Checkpoint 29 saved !\n",
            "Epoch 29/50: 100%|█| 120/120 [00:55<00:00,  2.16im\n",
            "Epoch 30/50:  32%|▎| 38/120 [00:19<00:36,  2.27img2021-11-29 12:21:23,326 train.py[line:353] INFO: Train step_1760: loss : 126.21829223632812,loss xy : 9.217842102050781,loss wh : 0.40791037678718567,loss obj : 115.98339080810547，loss cls : 0.6091437935829163,loss l2 : 4.373834609985352,lr : 0.001\n",
            "Epoch 30/50:  65%|▋| 78/120 [00:37<00:18,  2.26img2021-11-29 12:21:41,003 train.py[line:353] INFO: Train step_1780: loss : 143.28851318359375,loss xy : 12.28788948059082,loss wh : 0.5531172752380371,loss obj : 127.70844268798828，loss cls : 2.739061117172241,loss l2 : 6.749502658843994,lr : 0.001\n",
            "Epoch 30/50:  98%|▉| 118/120 [00:54<00:00,  2.27im2021-11-29 12:21:58,536 train.py[line:353] INFO: Train step_1800: loss : 112.04053497314453,loss xy : 5.792245864868164,loss wh : 0.16299256682395935,loss obj : 106.07086944580078，loss cls : 0.014427786692976952,loss l2 : 1.4295170307159424,lr : 0.001\n",
            "Epoch 30/50: 100%|█| 120/120 [00:55<00:00,  2.27im2021-11-29 12:21:59,139 train.py[line:364] INFO: Checkpoint 30 saved !\n",
            "Epoch 30/50: 100%|█| 120/120 [00:56<00:00,  2.13im\n",
            "Epoch 31/50:  32%|▎| 38/120 [00:19<00:36,  2.26img2021-11-29 12:22:19,254 train.py[line:353] INFO: Train step_1820: loss : 132.7080841064453,loss xy : 9.48510456085205,loss wh : 1.7648365497589111,loss obj : 118.4236831665039，loss cls : 3.0344600677490234,loss l2 : 9.414679527282715,lr : 0.001\n",
            "Epoch 31/50:  65%|▋| 78/120 [00:36<00:18,  2.27img2021-11-29 12:22:36,844 train.py[line:353] INFO: Train step_1840: loss : 195.50238037109375,loss xy : 29.659908294677734,loss wh : 6.419312000274658,loss obj : 152.74075317382812，loss cls : 6.682406425476074,loss l2 : 26.54337501525879,lr : 0.001\n",
            "Epoch 31/50:  98%|▉| 118/120 [00:54<00:00,  2.29im2021-11-29 12:22:54,437 train.py[line:353] INFO: Train step_1860: loss : 109.45225524902344,loss xy : 9.023566246032715,loss wh : 0.9688389897346497,loss obj : 98.51202392578125，loss cls : 0.9478293061256409,loss l2 : 4.048195838928223,lr : 0.001\n",
            "Epoch 31/50: 100%|█| 120/120 [00:55<00:00,  2.28im2021-11-29 12:22:55,031 train.py[line:364] INFO: Checkpoint 31 saved !\n",
            "Epoch 31/50: 100%|█| 120/120 [00:55<00:00,  2.15im\n",
            "Epoch 32/50:  32%|▎| 38/120 [00:18<00:36,  2.26img2021-11-29 12:23:14,833 train.py[line:353] INFO: Train step_1880: loss : 124.8691177368164,loss xy : 10.552715301513672,loss wh : 0.8289425373077393,loss obj : 110.32537078857422，loss cls : 3.162083625793457,loss l2 : 6.280302047729492,lr : 0.001\n",
            "Epoch 32/50:  65%|▋| 78/120 [00:36<00:18,  2.27img2021-11-29 12:23:32,467 train.py[line:353] INFO: Train step_1900: loss : 94.72599029541016,loss xy : 4.366709232330322,loss wh : 0.18763196468353271,loss obj : 90.12284851074219，loss cls : 0.048795029520988464,loss l2 : 1.8346080780029297,lr : 0.001\n",
            "Epoch 32/50:  98%|▉| 118/120 [00:54<00:00,  2.29im2021-11-29 12:23:49,995 train.py[line:353] INFO: Train step_1920: loss : 100.77005004882812,loss xy : 6.383701324462891,loss wh : 0.08830511569976807,loss obj : 87.05667877197266，loss cls : 7.241366863250732,loss l2 : 3.489924907684326,lr : 0.001\n",
            "Epoch 32/50: 100%|█| 120/120 [00:54<00:00,  2.28im2021-11-29 12:23:50,608 train.py[line:364] INFO: Checkpoint 32 saved !\n",
            "Epoch 32/50: 100%|█| 120/120 [00:55<00:00,  2.16im\n",
            "Epoch 33/50:  32%|▎| 38/120 [00:18<00:36,  2.25img2021-11-29 12:24:10,262 train.py[line:353] INFO: Train step_1940: loss : 131.7447509765625,loss xy : 17.08119773864746,loss wh : 2.1914620399475098,loss obj : 107.05651092529297，loss cls : 5.415585517883301,loss l2 : 12.443601608276367,lr : 0.001\n",
            "Epoch 33/50:  65%|▋| 78/120 [00:36<00:18,  2.28img2021-11-29 12:24:27,862 train.py[line:353] INFO: Train step_1960: loss : 106.62712097167969,loss xy : 10.889348983764648,loss wh : 0.708693265914917,loss obj : 93.83464813232422，loss cls : 1.1944282054901123,loss l2 : 4.987513542175293,lr : 0.001\n",
            "Epoch 33/50:  98%|▉| 118/120 [00:53<00:00,  2.29im2021-11-29 12:24:45,415 train.py[line:353] INFO: Train step_1980: loss : 141.9212188720703,loss xy : 23.91146469116211,loss wh : 1.6037012338638306,loss obj : 110.30935668945312，loss cls : 6.096695899963379,loss l2 : 13.54750919342041,lr : 0.001\n",
            "Epoch 33/50: 100%|█| 120/120 [00:54<00:00,  2.27im2021-11-29 12:24:46,049 train.py[line:364] INFO: Checkpoint 33 saved !\n",
            "Epoch 33/50: 100%|█| 120/120 [00:55<00:00,  2.16im\n",
            "Epoch 34/50:  32%|▎| 38/120 [00:18<00:36,  2.26img2021-11-29 12:25:05,731 train.py[line:353] INFO: Train step_2000: loss : 185.62811279296875,loss xy : 30.813016891479492,loss wh : 4.419927597045898,loss obj : 137.8974151611328，loss cls : 12.497753143310547,loss l2 : 25.802059173583984,lr : 0.001\n",
            "Epoch 34/50:  65%|▋| 78/120 [00:36<00:18,  2.26img2021-11-29 12:25:23,422 train.py[line:353] INFO: Train step_2020: loss : 83.32665252685547,loss xy : 4.629275321960449,loss wh : 0.18298999965190887,loss obj : 78.49217224121094，loss cls : 0.022220443934202194,loss l2 : 2.2536110877990723,lr : 0.001\n",
            "Epoch 34/50:  98%|▉| 118/120 [00:53<00:00,  2.30im2021-11-29 12:25:40,908 train.py[line:353] INFO: Train step_2040: loss : 93.01854705810547,loss xy : 8.020164489746094,loss wh : 0.4473523795604706,loss obj : 80.72346496582031，loss cls : 3.827569007873535,loss l2 : 4.623904705047607,lr : 0.001\n",
            "Epoch 34/50: 100%|█| 120/120 [00:54<00:00,  2.29im2021-11-29 12:25:41,526 train.py[line:364] INFO: Checkpoint 34 saved !\n",
            "Epoch 34/50: 100%|█| 120/120 [00:55<00:00,  2.16im\n",
            "Epoch 35/50:  32%|▎| 38/120 [00:18<00:36,  2.26img2021-11-29 12:26:01,423 train.py[line:353] INFO: Train step_2060: loss : 100.56572723388672,loss xy : 13.39120101928711,loss wh : 1.5488835573196411,loss obj : 82.84972381591797，loss cls : 2.77591609954834,loss l2 : 7.5970683097839355,lr : 0.001\n",
            "Epoch 35/50:  65%|▋| 78/120 [00:36<00:18,  2.26img2021-11-29 12:26:19,102 train.py[line:353] INFO: Train step_2080: loss : 94.50634002685547,loss xy : 10.458782196044922,loss wh : 1.0578794479370117,loss obj : 80.3316650390625，loss cls : 2.6580145359039307,loss l2 : 6.680780410766602,lr : 0.001\n",
            "Epoch 35/50:  98%|▉| 118/120 [00:54<00:00,  2.29im2021-11-29 12:26:36,667 train.py[line:353] INFO: Train step_2100: loss : 129.369140625,loss xy : 22.83216094970703,loss wh : 1.400732159614563,loss obj : 97.84578704833984，loss cls : 7.29046630859375,loss l2 : 12.68018913269043,lr : 0.001\n",
            "Epoch 35/50: 100%|█| 120/120 [00:55<00:00,  2.27im2021-11-29 12:26:37,270 train.py[line:364] INFO: Checkpoint 35 saved !\n",
            "Epoch 35/50: 100%|█| 120/120 [00:55<00:00,  2.15im\n",
            "Epoch 36/50:  32%|▎| 38/120 [00:19<00:35,  2.28img2021-11-29 12:26:57,253 train.py[line:353] INFO: Train step_2120: loss : 115.43090057373047,loss xy : 14.667559623718262,loss wh : 2.013394832611084,loss obj : 92.67109680175781，loss cls : 6.0788469314575195,loss l2 : 11.74062728881836,lr : 0.001\n",
            "Epoch 36/50:  65%|▋| 78/120 [00:36<00:18,  2.29img2021-11-29 12:27:14,738 train.py[line:353] INFO: Train step_2140: loss : 96.20983123779297,loss xy : 11.734193801879883,loss wh : 1.2793511152267456,loss obj : 80.17227172851562，loss cls : 3.024014711380005,loss l2 : 8.978372573852539,lr : 0.001\n",
            "Epoch 36/50:  98%|▉| 118/120 [00:53<00:00,  2.30im2021-11-29 12:27:32,121 train.py[line:353] INFO: Train step_2160: loss : 70.32379150390625,loss xy : 5.525240421295166,loss wh : 0.09481021761894226,loss obj : 64.6416015625，loss cls : 0.06214224547147751,loss l2 : 1.4971312284469604,lr : 0.001\n",
            "Epoch 36/50: 100%|█| 120/120 [00:54<00:00,  2.30im2021-11-29 12:27:32,694 train.py[line:364] INFO: Checkpoint 36 saved !\n",
            "Epoch 36/50: 100%|█| 120/120 [00:55<00:00,  2.17im\n",
            "Epoch 37/50:  32%|▎| 38/120 [00:19<00:35,  2.29img2021-11-29 12:27:52,790 train.py[line:353] INFO: Train step_2180: loss : 123.24102020263672,loss xy : 20.962705612182617,loss wh : 1.3998349905014038,loss obj : 91.08597564697266，loss cls : 9.792505264282227,loss l2 : 14.916706085205078,lr : 0.001\n",
            "Epoch 37/50:  65%|▋| 78/120 [00:36<00:18,  2.28img2021-11-29 12:28:10,363 train.py[line:353] INFO: Train step_2200: loss : 88.88909912109375,loss xy : 8.397607803344727,loss wh : 0.3697906732559204,loss obj : 69.83930206298828，loss cls : 10.282394409179688,loss l2 : 6.2321977615356445,lr : 0.001\n",
            "Epoch 37/50:  98%|▉| 118/120 [00:54<00:00,  2.28im2021-11-29 12:28:27,871 train.py[line:353] INFO: Train step_2220: loss : 151.643798828125,loss xy : 28.494626998901367,loss wh : 3.7940526008605957,loss obj : 103.89241027832031，loss cls : 15.462700843811035,loss l2 : 21.775957107543945,lr : 0.001\n",
            "Epoch 37/50: 100%|█| 120/120 [00:55<00:00,  2.27im2021-11-29 12:28:28,472 train.py[line:364] INFO: Checkpoint 37 saved !\n",
            "Epoch 37/50: 100%|█| 120/120 [00:55<00:00,  2.15im\n",
            "Epoch 38/50:  32%|▎| 38/120 [00:19<00:36,  2.24img2021-11-29 12:28:48,719 train.py[line:353] INFO: Train step_2240: loss : 120.60611724853516,loss xy : 21.488786697387695,loss wh : 2.9443047046661377,loss obj : 88.516357421875，loss cls : 7.656671524047852,loss l2 : 16.598846435546875,lr : 0.001\n",
            "Epoch 38/50:  65%|▋| 78/120 [00:37<00:18,  2.28img2021-11-29 12:29:06,449 train.py[line:353] INFO: Train step_2260: loss : 125.98851776123047,loss xy : 18.339385986328125,loss wh : 1.6754270792007446,loss obj : 99.45027160644531，loss cls : 6.523429870605469,loss l2 : 12.849846839904785,lr : 0.001\n",
            "Epoch 38/50:  98%|▉| 118/120 [00:54<00:00,  2.28im2021-11-29 12:29:24,045 train.py[line:353] INFO: Train step_2280: loss : 173.86309814453125,loss xy : 31.792619705200195,loss wh : 3.75978684425354,loss obj : 123.26625061035156，loss cls : 15.044425964355469,loss l2 : 25.214519500732422,lr : 0.001\n",
            "Epoch 38/50: 100%|█| 120/120 [00:55<00:00,  2.27im2021-11-29 12:29:24,693 train.py[line:364] INFO: Checkpoint 38 saved !\n",
            "Epoch 38/50: 100%|█| 120/120 [00:56<00:00,  2.13im\n",
            "Epoch 39/50:  32%|▎| 38/120 [00:19<00:36,  2.26img2021-11-29 12:29:44,757 train.py[line:353] INFO: Train step_2300: loss : 98.6341323852539,loss xy : 17.36200714111328,loss wh : 0.7367255091667175,loss obj : 75.93357849121094，loss cls : 4.601824760437012,loss l2 : 7.626465797424316,lr : 0.001\n",
            "Epoch 39/50:  65%|▋| 78/120 [00:36<00:18,  2.28img2021-11-29 12:30:02,396 train.py[line:353] INFO: Train step_2320: loss : 64.4765396118164,loss xy : 4.438820838928223,loss wh : 0.15278497338294983,loss obj : 59.84464645385742，loss cls : 0.04029294103384018,loss l2 : 2.279529571533203,lr : 0.001\n",
            "Epoch 39/50:  98%|▉| 118/120 [00:54<00:00,  2.28im2021-11-29 12:30:19,888 train.py[line:353] INFO: Train step_2340: loss : 75.6991958618164,loss xy : 9.935165405273438,loss wh : 0.5914717316627502,loss obj : 64.2989730834961，loss cls : 0.8735871315002441,loss l2 : 4.608834743499756,lr : 0.001\n",
            "Epoch 39/50: 100%|█| 120/120 [00:55<00:00,  2.28im2021-11-29 12:30:20,553 train.py[line:364] INFO: Checkpoint 39 saved !\n",
            "Epoch 39/50: 100%|█| 120/120 [00:55<00:00,  2.15im\n",
            "Epoch 40/50:  32%|▎| 38/120 [00:19<00:36,  2.25img2021-11-29 12:30:40,486 train.py[line:353] INFO: Train step_2360: loss : 80.7996597290039,loss xy : 14.416463851928711,loss wh : 1.3332949876785278,loss obj : 63.059505462646484，loss cls : 1.9903950691223145,loss l2 : 8.128073692321777,lr : 0.001\n",
            "Epoch 40/50:  65%|▋| 78/120 [00:36<00:18,  2.26img2021-11-29 12:30:58,177 train.py[line:353] INFO: Train step_2380: loss : 66.93197631835938,loss xy : 4.584061622619629,loss wh : 0.5929691195487976,loss obj : 60.075130462646484，loss cls : 1.6798200607299805,loss l2 : 4.061132907867432,lr : 0.001\n",
            "Epoch 40/50:  98%|▉| 118/120 [00:54<00:00,  2.27im2021-11-29 12:31:15,737 train.py[line:353] INFO: Train step_2400: loss : 89.71637725830078,loss xy : 12.211711883544922,loss wh : 3.7851877212524414,loss obj : 67.19461059570312，loss cls : 6.524864196777344,loss l2 : 13.957731246948242,lr : 0.001\n",
            "Epoch 40/50: 100%|█| 120/120 [00:55<00:00,  2.26im2021-11-29 12:31:16,309 train.py[line:364] INFO: Checkpoint 40 saved !\n",
            "Epoch 40/50: 100%|█| 120/120 [00:55<00:00,  2.15im\n",
            "Epoch 41/50:  32%|▎| 38/120 [00:19<00:36,  2.28img2021-11-29 12:31:36,560 train.py[line:353] INFO: Train step_2420: loss : 136.7982635498047,loss xy : 30.847885131835938,loss wh : 2.0512044429779053,loss obj : 98.21623229980469，loss cls : 5.682934761047363,loss l2 : 18.797962188720703,lr : 0.001\n",
            "Epoch 41/50:  65%|▋| 78/120 [00:37<00:18,  2.28img2021-11-29 12:31:54,226 train.py[line:353] INFO: Train step_2440: loss : 66.64688873291016,loss xy : 8.14826488494873,loss wh : 2.169463872909546,loss obj : 54.53044128417969，loss cls : 1.798723578453064,loss l2 : 7.316715240478516,lr : 0.001\n",
            "Epoch 41/50:  98%|▉| 118/120 [00:54<00:00,  2.30im2021-11-29 12:32:11,761 train.py[line:353] INFO: Train step_2460: loss : 49.88176727294922,loss xy : 3.8876748085021973,loss wh : 0.04636154696345329,loss obj : 45.809810638427734，loss cls : 0.1379214972257614,loss l2 : 0.7037721872329712,lr : 0.001\n",
            "Epoch 41/50: 100%|█| 120/120 [00:55<00:00,  2.29im2021-11-29 12:32:12,368 train.py[line:364] INFO: Checkpoint 41 saved !\n",
            "Epoch 41/50: 100%|█| 120/120 [00:56<00:00,  2.14im\n",
            "Epoch 42/50:  32%|▎| 38/120 [00:19<00:36,  2.26img2021-11-29 12:32:32,683 train.py[line:353] INFO: Train step_2480: loss : 112.72191619873047,loss xy : 23.408653259277344,loss wh : 5.807327747344971,loss obj : 75.8819351196289，loss cls : 7.623998165130615,loss l2 : 21.83734703063965,lr : 0.001\n",
            "Epoch 42/50:  65%|▋| 78/120 [00:37<00:18,  2.24img2021-11-29 12:32:50,424 train.py[line:353] INFO: Train step_2500: loss : 113.06856536865234,loss xy : 25.19774627685547,loss wh : 3.2443628311157227,loss obj : 78.82174682617188，loss cls : 5.804712295532227,loss l2 : 16.848289489746094,lr : 0.001\n",
            "Epoch 42/50:  98%|▉| 118/120 [00:54<00:00,  2.29im2021-11-29 12:33:08,006 train.py[line:353] INFO: Train step_2520: loss : 78.14936828613281,loss xy : 15.762735366821289,loss wh : 0.48581236600875854,loss obj : 59.08955764770508，loss cls : 2.8112633228302,loss l2 : 5.988377094268799,lr : 0.001\n",
            "Epoch 42/50: 100%|█| 120/120 [00:55<00:00,  2.28im2021-11-29 12:33:08,621 train.py[line:364] INFO: Checkpoint 42 saved !\n",
            "Epoch 42/50: 100%|█| 120/120 [00:56<00:00,  2.13im\n",
            "Epoch 43/50:  32%|▎| 38/120 [00:19<00:36,  2.26img2021-11-29 12:33:28,859 train.py[line:353] INFO: Train step_2540: loss : 63.91239547729492,loss xy : 13.135204315185547,loss wh : 0.4318773150444031,loss obj : 47.05087661743164，loss cls : 3.2944376468658447,loss l2 : 4.619272232055664,lr : 0.001\n",
            "Epoch 43/50:  65%|▋| 78/120 [00:37<00:18,  2.25img2021-11-29 12:33:46,602 train.py[line:353] INFO: Train step_2560: loss : 73.80049896240234,loss xy : 15.942915916442871,loss wh : 0.7986260652542114,loss obj : 54.46856689453125，loss cls : 2.5903823375701904,loss l2 : 5.907033443450928,lr : 0.001\n",
            "Epoch 43/50:  98%|▉| 118/120 [00:54<00:00,  2.28im2021-11-29 12:34:04,129 train.py[line:353] INFO: Train step_2580: loss : 77.02344512939453,loss xy : 10.617462158203125,loss wh : 1.1194876432418823,loss obj : 57.28509521484375，loss cls : 8.001398086547852,loss l2 : 9.140887260437012,lr : 0.001\n",
            "Epoch 43/50: 100%|█| 120/120 [00:55<00:00,  2.28im2021-11-29 12:34:04,743 train.py[line:364] INFO: Checkpoint 43 saved !\n",
            "Epoch 43/50: 100%|█| 120/120 [00:56<00:00,  2.14im\n",
            "Epoch 44/50:  32%|▎| 38/120 [00:19<00:36,  2.23img2021-11-29 12:34:24,632 train.py[line:353] INFO: Train step_2600: loss : 72.63299560546875,loss xy : 10.74576187133789,loss wh : 1.5711414813995361,loss obj : 59.583091735839844，loss cls : 0.733001708984375,loss l2 : 8.891371726989746,lr : 0.001\n",
            "Epoch 44/50:  65%|▋| 78/120 [00:36<00:18,  2.26img2021-11-29 12:34:42,400 train.py[line:353] INFO: Train step_2620: loss : 97.66217041015625,loss xy : 20.890535354614258,loss wh : 2.2561728954315186,loss obj : 70.17628479003906，loss cls : 4.339181900024414,loss l2 : 12.44221019744873,lr : 0.001\n",
            "Epoch 44/50:  98%|▉| 118/120 [00:54<00:00,  2.29im2021-11-29 12:35:00,022 train.py[line:353] INFO: Train step_2640: loss : 70.22396087646484,loss xy : 9.394448280334473,loss wh : 1.6199367046356201,loss obj : 53.08420944213867，loss cls : 6.125369548797607,loss l2 : 8.405462265014648,lr : 0.001\n",
            "Epoch 44/50: 100%|█| 120/120 [00:55<00:00,  2.28im2021-11-29 12:35:00,665 train.py[line:364] INFO: Checkpoint 44 saved !\n",
            "Epoch 44/50: 100%|█| 120/120 [00:55<00:00,  2.15im\n",
            "Epoch 45/50:  32%|▎| 38/120 [00:19<00:36,  2.24img2021-11-29 12:35:20,780 train.py[line:353] INFO: Train step_2660: loss : 80.04498291015625,loss xy : 22.294662475585938,loss wh : 3.945018768310547,loss obj : 51.95085144042969，loss cls : 1.8544442653656006,loss l2 : 12.744392395019531,lr : 0.001\n",
            "Epoch 45/50:  65%|▋| 78/120 [00:36<00:18,  2.26img2021-11-29 12:35:38,467 train.py[line:353] INFO: Train step_2680: loss : 62.659244537353516,loss xy : 11.124565124511719,loss wh : 1.2315672636032104,loss obj : 47.956485748291016，loss cls : 2.346627950668335,loss l2 : 6.389580249786377,lr : 0.001\n",
            "Epoch 45/50:  98%|▉| 118/120 [00:54<00:00,  2.28im2021-11-29 12:35:56,002 train.py[line:353] INFO: Train step_2700: loss : 61.58964538574219,loss xy : 9.839061737060547,loss wh : 0.7295294404029846,loss obj : 48.58393859863281，loss cls : 2.4371132850646973,loss l2 : 5.737565994262695,lr : 0.001\n",
            "Epoch 45/50: 100%|█| 120/120 [00:55<00:00,  2.28im2021-11-29 12:35:56,583 train.py[line:364] INFO: Checkpoint 45 saved !\n",
            "Epoch 45/50: 100%|█| 120/120 [00:55<00:00,  2.15im\n",
            "Epoch 46/50:  32%|▎| 38/120 [00:18<00:36,  2.24img2021-11-29 12:36:16,438 train.py[line:353] INFO: Train step_2720: loss : 64.73606872558594,loss xy : 8.985943794250488,loss wh : 1.0289270877838135,loss obj : 51.09326171875，loss cls : 3.6279358863830566,loss l2 : 6.825265407562256,lr : 0.001\n",
            "Epoch 46/50:  65%|▋| 78/120 [00:36<00:18,  2.23img2021-11-29 12:36:34,240 train.py[line:353] INFO: Train step_2740: loss : 79.11353302001953,loss xy : 19.871381759643555,loss wh : 0.7445310354232788,loss obj : 52.677581787109375，loss cls : 5.820035934448242,loss l2 : 8.570842742919922,lr : 0.001\n",
            "Epoch 46/50:  98%|▉| 118/120 [00:54<00:00,  2.28im2021-11-29 12:36:51,850 train.py[line:353] INFO: Train step_2760: loss : 62.737152099609375,loss xy : 10.635406494140625,loss wh : 1.2480814456939697,loss obj : 47.88180160522461，loss cls : 2.97186279296875,loss l2 : 7.386309623718262,lr : 0.001\n",
            "Epoch 46/50: 100%|█| 120/120 [00:55<00:00,  2.28im2021-11-29 12:36:52,402 train.py[line:364] INFO: Checkpoint 46 saved !\n",
            "Epoch 46/50: 100%|█| 120/120 [00:55<00:00,  2.15im\n",
            "Epoch 47/50:  32%|▎| 38/120 [00:19<00:36,  2.23img2021-11-29 12:37:12,678 train.py[line:353] INFO: Train step_2780: loss : 63.41702651977539,loss xy : 15.45279312133789,loss wh : 0.98424232006073,loss obj : 44.52341842651367，loss cls : 2.4565720558166504,loss l2 : 6.378753662109375,lr : 0.001\n",
            "Epoch 47/50:  65%|▋| 78/120 [00:37<00:18,  2.25img2021-11-29 12:37:30,449 train.py[line:353] INFO: Train step_2800: loss : 49.18119812011719,loss xy : 10.327470779418945,loss wh : 0.1606759876012802,loss obj : 37.55221176147461，loss cls : 1.1408390998840332,loss l2 : 2.7454488277435303,lr : 0.001\n",
            "Epoch 47/50:  98%|▉| 118/120 [00:54<00:00,  2.28im2021-11-29 12:37:48,017 train.py[line:353] INFO: Train step_2820: loss : 83.11800384521484,loss xy : 20.410358428955078,loss wh : 2.81158709526062,loss obj : 53.653072357177734，loss cls : 6.242989540100098,loss l2 : 14.355039596557617,lr : 0.001\n",
            "Epoch 47/50: 100%|█| 120/120 [00:55<00:00,  2.27im2021-11-29 12:37:48,610 train.py[line:364] INFO: Checkpoint 47 saved !\n",
            "Epoch 47/50: 100%|█| 120/120 [00:56<00:00,  2.13im\n",
            "Epoch 48/50:  32%|▎| 38/120 [00:19<00:36,  2.25img2021-11-29 12:38:08,879 train.py[line:353] INFO: Train step_2840: loss : 66.4833755493164,loss xy : 13.587374687194824,loss wh : 1.502534031867981,loss obj : 48.336158752441406，loss cls : 3.057304859161377,loss l2 : 8.892196655273438,lr : 0.001\n",
            "Epoch 48/50:  65%|▋| 78/120 [00:37<00:18,  2.26img2021-11-29 12:38:26,669 train.py[line:353] INFO: Train step_2860: loss : 128.94715881347656,loss xy : 28.236698150634766,loss wh : 13.32871150970459,loss obj : 77.39983367919922，loss cls : 9.98192310333252,loss l2 : 41.03818130493164,lr : 0.001\n",
            "Epoch 48/50:  98%|▉| 118/120 [00:54<00:00,  2.29im2021-11-29 12:38:44,250 train.py[line:353] INFO: Train step_2880: loss : 84.04605865478516,loss xy : 23.94040298461914,loss wh : 1.4872078895568848,loss obj : 51.756309509277344，loss cls : 6.862133979797363,loss l2 : 11.793455123901367,lr : 0.001\n",
            "Epoch 48/50: 100%|█| 120/120 [00:55<00:00,  2.27im2021-11-29 12:38:44,864 train.py[line:364] INFO: Checkpoint 48 saved !\n",
            "Epoch 48/50: 100%|█| 120/120 [00:56<00:00,  2.13im\n",
            "Epoch 49/50:  32%|▎| 38/120 [00:19<00:36,  2.25img2021-11-29 12:39:05,115 train.py[line:353] INFO: Train step_2900: loss : 43.26447296142578,loss xy : 7.207854270935059,loss wh : 0.5865352153778076,loss obj : 35.33258056640625，loss cls : 0.13750387728214264,loss l2 : 3.121399402618408,lr : 0.001\n",
            "Epoch 49/50:  65%|▋| 78/120 [00:36<00:18,  2.27img2021-11-29 12:39:22,755 train.py[line:353] INFO: Train step_2920: loss : 35.32979965209961,loss xy : 4.8009796142578125,loss wh : 0.22090600430965424,loss obj : 29.66389274597168，loss cls : 0.6440200209617615,loss l2 : 1.3790818452835083,lr : 0.001\n",
            "Epoch 49/50:  98%|▉| 118/120 [00:54<00:00,  2.28im2021-11-29 12:39:40,361 train.py[line:353] INFO: Train step_2940: loss : 65.15483856201172,loss xy : 22.88559341430664,loss wh : 0.5622515678405762,loss obj : 40.929161071777344，loss cls : 0.7778329849243164,loss l2 : 6.486381530761719,lr : 0.001\n",
            "Epoch 49/50: 100%|█| 120/120 [00:55<00:00,  2.27im2021-11-29 12:39:40,925 train.py[line:364] INFO: Checkpoint 49 saved !\n",
            "Epoch 49/50: 100%|█| 120/120 [00:56<00:00,  2.14im\n",
            "Epoch 50/50:  32%|▎| 38/120 [00:18<00:36,  2.24img2021-11-29 12:40:00,658 train.py[line:353] INFO: Train step_2960: loss : 52.667850494384766,loss xy : 9.89577865600586,loss wh : 0.617452085018158,loss obj : 38.40514373779297，loss cls : 3.7494773864746094,loss l2 : 5.443628311157227,lr : 0.001\n",
            "Epoch 50/50:  65%|▋| 78/120 [00:36<00:18,  2.27img2021-11-29 12:40:18,251 train.py[line:353] INFO: Train step_2980: loss : 37.7706184387207,loss xy : 6.924910068511963,loss wh : 0.23924018442630768,loss obj : 29.452943801879883，loss cls : 1.1535228490829468,loss l2 : 1.909246563911438,lr : 0.001\n",
            "Epoch 50/50:  98%|▉| 118/120 [00:53<00:00,  2.28im2021-11-29 12:40:35,792 train.py[line:353] INFO: Train step_3000: loss : 61.944217681884766,loss xy : 15.533105850219727,loss wh : 0.3875410556793213,loss obj : 43.2296142578125，loss cls : 2.7939581871032715,loss l2 : 5.940433025360107,lr : 0.001\n",
            "Epoch 50/50: 100%|█| 120/120 [00:54<00:00,  2.26im2021-11-29 12:40:36,380 train.py[line:364] INFO: Checkpoint 50 saved !\n",
            "Epoch 50/50: 100%|█| 120/120 [00:55<00:00,  2.16im\n"
          ]
        }
      ]
    },
    {
      "cell_type": "markdown",
      "metadata": {
        "id": "CR87FGKijXbI"
      },
      "source": [
        "### 4. Get the results of object detection"
      ]
    },
    {
      "cell_type": "code",
      "metadata": {
        "id": "Vutw9YXmhvWo"
      },
      "source": [
        "import os\n",
        "test_images = [\"valid/\" + f for f in os.listdir('valid') if f.endswith('.jpg')]"
      ],
      "execution_count": null,
      "outputs": []
    },
    {
      "cell_type": "code",
      "metadata": {
        "colab": {
          "base_uri": "https://localhost:8080/"
        },
        "id": "jSo5fOrEtpUV",
        "outputId": "5ed07f90-02c8-4af5-bb2b-dc58d897f9f0"
      },
      "source": [
        "test_images"
      ],
      "execution_count": null,
      "outputs": [
        {
          "output_type": "execute_result",
          "data": {
            "text/plain": [
              "['valid/photo-1602096934132-ec3c50f55ec2_jpeg.rf.d617ab58a99e473e0c8340d4b5d3ae21.jpg',\n",
              " 'valid/photo-1604591684189-86e88d006848_jpeg.rf.7d5db7f99767e39f57a27f4c50f3e4ef.jpg',\n",
              " 'valid/photo-1544021770-7fe1de901890_jpeg.rf.f64ba5e192c626c4e47b17d09dbdf9b1.jpg',\n",
              " 'valid/photo-1508345105453-e4abfea863c6_jpeg.rf.ee825ebad98d385495461682e3b83fa5.jpg',\n",
              " 'valid/photo-1613925054466-df3b17123ca7_jpeg.rf.fcb44ac5e4236fbb746b9c67447d35ba.jpg',\n",
              " 'valid/photo-1573675580577-58973eafd7ab_jpeg.rf.2ac00a1aa0f7c271f0af5613bfaeedb2.jpg',\n",
              " 'valid/photo-1623951599201-287d9c2c2857_jpeg.rf.b1ad65528f08f5a9bc7e5fccf651ac80.jpg',\n",
              " 'valid/photo-1612119422334-b407e510081d_jpeg.rf.8bad5897011e4f330fa41dd9e4fd1001.jpg',\n",
              " 'valid/photo-1562051725-cc35a65c8227_jpeg.rf.2bcb2b8d3f77a46a600e19e37944ef64.jpg',\n",
              " 'valid/photo-1520207625066-829dade7b91a_jpeg.rf.b8ef9edb161d5d0207d19865df704f0d.jpg',\n",
              " 'valid/photo-1535868463750-c78d9543614f_jpeg.rf.4a30cc8e1f5b739ccd898346b04d1af0.jpg',\n",
              " 'valid/photo-1464593745417-e22a78ca277b_jpeg.rf.b6f1a9f960be307836d6bb997c28771a.jpg',\n",
              " 'valid/photo-1485119502162-016e4409beab_jpeg.rf.2b789df217b76537a17ad2dff89acdac.jpg',\n",
              " 'valid/photo-1537291730574-76479f3da033_jpeg.rf.6cd375a333281dd8e777b2d5635a4e7e.jpg',\n",
              " 'valid/photo-1531379410502-63bfe8cdaf6f_jpeg.rf.84194f588897549a06a1ffc543012ae3.jpg',\n",
              " 'valid/photo-1572530895190-89dd70849410_jpeg.rf.3ad30ef9e2b9b70031d9f54f0657eb47.jpg']"
            ]
          },
          "metadata": {},
          "execution_count": 13
        }
      ]
    },
    {
      "cell_type": "markdown",
      "metadata": {
        "id": "ZYRv25XvVFa3"
      },
      "source": [
        "#### Obtain result"
      ]
    },
    {
      "cell_type": "code",
      "metadata": {
        "id": "091QOGGihsuV",
        "colab": {
          "base_uri": "https://localhost:8080/"
        },
        "outputId": "7f8dd0cc-e75c-42a3-840b-f40dbac8069e"
      },
      "source": [
        "%%time\n",
        "!python /content/pytorch-YOLOv4/models.py {num_classes} checkpoints/Yolov4_epoch50.pth 'valid/photo-1572530895190-89dd70849410_jpeg.rf.3ad30ef9e2b9b70031d9f54f0657eb47.jpg' valid/_classes.txt"
      ],
      "execution_count": null,
      "outputs": [
        {
          "output_type": "stream",
          "name": "stdout",
          "text": [
            "pear: 0.999980\n",
            "save plot results to predictions.jpg\n",
            "CPU times: user 43.1 ms, sys: 10.8 ms, total: 53.8 ms\n",
            "Wall time: 4.05 s\n"
          ]
        }
      ]
    },
    {
      "cell_type": "code",
      "metadata": {
        "id": "Af8tiXQLrGgk",
        "colab": {
          "base_uri": "https://localhost:8080/",
          "height": 433
        },
        "outputId": "bdd52858-3d05-4875-96b3-ccb416d375de"
      },
      "source": [
        "from IPython.display import Image\n",
        "Image('predictions.jpg')"
      ],
      "execution_count": null,
      "outputs": [
        {
          "output_type": "execute_result",
          "data": {
            "image/jpeg": "[encoded data removed]",
            "text/plain": [
              "<IPython.core.display.Image object>"
            ]
          },
          "metadata": {},
          "execution_count": 46
        }
      ]
    }
  ]
}